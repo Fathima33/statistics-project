{
 "cells": [
  {
   "cell_type": "markdown",
   "metadata": {},
   "source": [
    "DESCRIPTIVE STATISTICS"
   ]
  },
  {
   "cell_type": "code",
   "execution_count": 1,
   "metadata": {
    "id": "FNWZAOx_SUIu"
   },
   "outputs": [],
   "source": [
    "import pandas as pd"
   ]
  },
  {
   "cell_type": "markdown",
   "metadata": {
    "id": "4WFV2isLSfy2"
   },
   "source": [
    "TO SELECT SAMPLE FROM POPULATION USING PYTHON:\n",
    "\n",
    "\n",
    "\n",
    "> Most Common used sampling techniques:\n",
    "\n",
    "> Random Sampling\n",
    "    \n",
    "\n",
    "\n",
    "> Stratified sampling\n",
    "\n",
    "\n",
    "\n",
    "\n",
    "\n"
   ]
  },
  {
   "cell_type": "code",
   "execution_count": 2,
   "metadata": {
    "id": "aOqXJ0L3tVE5"
   },
   "outputs": [],
   "source": [
    "df=pd.read_csv(\"M2_T2_V1Movies.csv\")"
   ]
  },
  {
   "cell_type": "code",
   "execution_count": 3,
   "metadata": {},
   "outputs": [
    {
     "data": {
      "text/plain": [
       "Index(['Title', 'Year', 'Genre', 'Duration', 'Director', 'Rating',\n",
       "       'Popularity'],\n",
       "      dtype='object')"
      ]
     },
     "execution_count": 3,
     "metadata": {},
     "output_type": "execute_result"
    }
   ],
   "source": [
    "df.columns"
   ]
  },
  {
   "cell_type": "code",
   "execution_count": 4,
   "metadata": {
    "colab": {
     "base_uri": "https://localhost:8080/",
     "height": 424
    },
    "id": "3_PUYcMMSuQ_",
    "outputId": "2a1eb5a8-a379-441e-c3b4-89f15de3cdc1"
   },
   "outputs": [
    {
     "data": {
      "text/html": [
       "<div>\n",
       "<style scoped>\n",
       "    .dataframe tbody tr th:only-of-type {\n",
       "        vertical-align: middle;\n",
       "    }\n",
       "\n",
       "    .dataframe tbody tr th {\n",
       "        vertical-align: top;\n",
       "    }\n",
       "\n",
       "    .dataframe thead th {\n",
       "        text-align: right;\n",
       "    }\n",
       "</style>\n",
       "<table border=\"1\" class=\"dataframe\">\n",
       "  <thead>\n",
       "    <tr style=\"text-align: right;\">\n",
       "      <th></th>\n",
       "      <th>Title</th>\n",
       "      <th>Year</th>\n",
       "      <th>Genre</th>\n",
       "      <th>Duration</th>\n",
       "      <th>Director</th>\n",
       "      <th>Rating</th>\n",
       "      <th>Popularity</th>\n",
       "    </tr>\n",
       "  </thead>\n",
       "  <tbody>\n",
       "    <tr>\n",
       "      <th>0</th>\n",
       "      <td>What Is It?</td>\n",
       "      <td>2005</td>\n",
       "      <td>Drama</td>\n",
       "      <td>72</td>\n",
       "      <td>Crispin Glover</td>\n",
       "      <td>5.6</td>\n",
       "      <td>21.83</td>\n",
       "    </tr>\n",
       "    <tr>\n",
       "      <th>1</th>\n",
       "      <td>Glitter</td>\n",
       "      <td>2001</td>\n",
       "      <td>Drama</td>\n",
       "      <td>104</td>\n",
       "      <td>Vondie Curtis-Hall</td>\n",
       "      <td>2.2</td>\n",
       "      <td>81.69</td>\n",
       "    </tr>\n",
       "    <tr>\n",
       "      <th>2</th>\n",
       "      <td>The Attic Expeditions</td>\n",
       "      <td>2001</td>\n",
       "      <td>Comedy</td>\n",
       "      <td>100</td>\n",
       "      <td>Jeremy Kasten</td>\n",
       "      <td>5.0</td>\n",
       "      <td>42.08</td>\n",
       "    </tr>\n",
       "    <tr>\n",
       "      <th>3</th>\n",
       "      <td>Men in Black II</td>\n",
       "      <td>2002</td>\n",
       "      <td>Action</td>\n",
       "      <td>88</td>\n",
       "      <td>Barry Sonnenfeld</td>\n",
       "      <td>6.2</td>\n",
       "      <td>98.60</td>\n",
       "    </tr>\n",
       "    <tr>\n",
       "      <th>4</th>\n",
       "      <td>Star Wars: Episode II - Attack of the Clones</td>\n",
       "      <td>2002</td>\n",
       "      <td>Action</td>\n",
       "      <td>142</td>\n",
       "      <td>George Lucas</td>\n",
       "      <td>6.5</td>\n",
       "      <td>99.58</td>\n",
       "    </tr>\n",
       "    <tr>\n",
       "      <th>...</th>\n",
       "      <td>...</td>\n",
       "      <td>...</td>\n",
       "      <td>...</td>\n",
       "      <td>...</td>\n",
       "      <td>...</td>\n",
       "      <td>...</td>\n",
       "      <td>...</td>\n",
       "    </tr>\n",
       "    <tr>\n",
       "      <th>5270</th>\n",
       "      <td>Bloodline</td>\n",
       "      <td>2018</td>\n",
       "      <td>Crime</td>\n",
       "      <td>97</td>\n",
       "      <td>Henry Jacobson</td>\n",
       "      <td>6.0</td>\n",
       "      <td>64.69</td>\n",
       "    </tr>\n",
       "    <tr>\n",
       "      <th>5271</th>\n",
       "      <td>The Princess Switch</td>\n",
       "      <td>2018</td>\n",
       "      <td>Comedy</td>\n",
       "      <td>101</td>\n",
       "      <td>Mike Rohl</td>\n",
       "      <td>6.0</td>\n",
       "      <td>80.21</td>\n",
       "    </tr>\n",
       "    <tr>\n",
       "      <th>5272</th>\n",
       "      <td>You Might Be the Killer</td>\n",
       "      <td>2018</td>\n",
       "      <td>Comedy</td>\n",
       "      <td>92</td>\n",
       "      <td>Brett Simmons</td>\n",
       "      <td>5.9</td>\n",
       "      <td>61.14</td>\n",
       "    </tr>\n",
       "    <tr>\n",
       "      <th>5273</th>\n",
       "      <td>The Final Wish</td>\n",
       "      <td>2018</td>\n",
       "      <td>Horror</td>\n",
       "      <td>95</td>\n",
       "      <td>Timothy Woodward Jr.</td>\n",
       "      <td>4.2</td>\n",
       "      <td>54.68</td>\n",
       "    </tr>\n",
       "    <tr>\n",
       "      <th>5274</th>\n",
       "      <td>Shrek Retold</td>\n",
       "      <td>2018</td>\n",
       "      <td>Animation</td>\n",
       "      <td>90</td>\n",
       "      <td>Grant Duffrin</td>\n",
       "      <td>7.5</td>\n",
       "      <td>26.07</td>\n",
       "    </tr>\n",
       "  </tbody>\n",
       "</table>\n",
       "<p>5275 rows × 7 columns</p>\n",
       "</div>"
      ],
      "text/plain": [
       "                                             Title  Year      Genre  Duration  \\\n",
       "0                                      What Is It?  2005      Drama        72   \n",
       "1                                          Glitter  2001      Drama       104   \n",
       "2                            The Attic Expeditions  2001     Comedy       100   \n",
       "3                                  Men in Black II  2002     Action        88   \n",
       "4     Star Wars: Episode II - Attack of the Clones  2002     Action       142   \n",
       "...                                            ...   ...        ...       ...   \n",
       "5270                                     Bloodline  2018      Crime        97   \n",
       "5271                           The Princess Switch  2018     Comedy       101   \n",
       "5272                       You Might Be the Killer  2018     Comedy        92   \n",
       "5273                                The Final Wish  2018     Horror        95   \n",
       "5274                                  Shrek Retold  2018  Animation        90   \n",
       "\n",
       "                  Director  Rating  Popularity  \n",
       "0           Crispin Glover     5.6       21.83  \n",
       "1       Vondie Curtis-Hall     2.2       81.69  \n",
       "2            Jeremy Kasten     5.0       42.08  \n",
       "3         Barry Sonnenfeld     6.2       98.60  \n",
       "4             George Lucas     6.5       99.58  \n",
       "...                    ...     ...         ...  \n",
       "5270        Henry Jacobson     6.0       64.69  \n",
       "5271             Mike Rohl     6.0       80.21  \n",
       "5272         Brett Simmons     5.9       61.14  \n",
       "5273  Timothy Woodward Jr.     4.2       54.68  \n",
       "5274         Grant Duffrin     7.5       26.07  \n",
       "\n",
       "[5275 rows x 7 columns]"
      ]
     },
     "execution_count": 4,
     "metadata": {},
     "output_type": "execute_result"
    }
   ],
   "source": [
    "df"
   ]
  },
  {
   "cell_type": "code",
   "execution_count": 5,
   "metadata": {
    "id": "DU6Kf74LTINt"
   },
   "outputs": [],
   "source": [
    "#random sampling selects rows by random\n",
    "df1=df.sample(10)"
   ]
  },
  {
   "cell_type": "code",
   "execution_count": 6,
   "metadata": {
    "colab": {
     "base_uri": "https://localhost:8080/",
     "height": 363
    },
    "id": "woyarkICTfIE",
    "outputId": "905434d7-73d7-4972-daf2-652ab0e6dd72"
   },
   "outputs": [
    {
     "data": {
      "text/html": [
       "<div>\n",
       "<style scoped>\n",
       "    .dataframe tbody tr th:only-of-type {\n",
       "        vertical-align: middle;\n",
       "    }\n",
       "\n",
       "    .dataframe tbody tr th {\n",
       "        vertical-align: top;\n",
       "    }\n",
       "\n",
       "    .dataframe thead th {\n",
       "        text-align: right;\n",
       "    }\n",
       "</style>\n",
       "<table border=\"1\" class=\"dataframe\">\n",
       "  <thead>\n",
       "    <tr style=\"text-align: right;\">\n",
       "      <th></th>\n",
       "      <th>Title</th>\n",
       "      <th>Year</th>\n",
       "      <th>Genre</th>\n",
       "      <th>Duration</th>\n",
       "      <th>Director</th>\n",
       "      <th>Rating</th>\n",
       "      <th>Popularity</th>\n",
       "    </tr>\n",
       "  </thead>\n",
       "  <tbody>\n",
       "    <tr>\n",
       "      <th>128</th>\n",
       "      <td>The 24th Day</td>\n",
       "      <td>2004</td>\n",
       "      <td>Thriller</td>\n",
       "      <td>92</td>\n",
       "      <td>Tony Piccirillo</td>\n",
       "      <td>6.5</td>\n",
       "      <td>58.50</td>\n",
       "    </tr>\n",
       "    <tr>\n",
       "      <th>445</th>\n",
       "      <td>Loving Annabelle</td>\n",
       "      <td>2006</td>\n",
       "      <td>Drama</td>\n",
       "      <td>77</td>\n",
       "      <td>Katherine Brooks</td>\n",
       "      <td>6.3</td>\n",
       "      <td>75.62</td>\n",
       "    </tr>\n",
       "    <tr>\n",
       "      <th>1062</th>\n",
       "      <td>Being Flynn</td>\n",
       "      <td>2012</td>\n",
       "      <td>Drama</td>\n",
       "      <td>102</td>\n",
       "      <td>Paul Weitz</td>\n",
       "      <td>6.4</td>\n",
       "      <td>79.05</td>\n",
       "    </tr>\n",
       "    <tr>\n",
       "      <th>1235</th>\n",
       "      <td>Off the Black</td>\n",
       "      <td>2006</td>\n",
       "      <td>Drama</td>\n",
       "      <td>90</td>\n",
       "      <td>James Ponsoldt</td>\n",
       "      <td>6.6</td>\n",
       "      <td>36.16</td>\n",
       "    </tr>\n",
       "    <tr>\n",
       "      <th>1757</th>\n",
       "      <td>Proud American</td>\n",
       "      <td>2008</td>\n",
       "      <td>Drama</td>\n",
       "      <td>115</td>\n",
       "      <td>Fred Ashman</td>\n",
       "      <td>1.1</td>\n",
       "      <td>17.47</td>\n",
       "    </tr>\n",
       "    <tr>\n",
       "      <th>1855</th>\n",
       "      <td>Midnight Son</td>\n",
       "      <td>2011</td>\n",
       "      <td>Horror</td>\n",
       "      <td>88</td>\n",
       "      <td>Scott Leberecht</td>\n",
       "      <td>5.9</td>\n",
       "      <td>43.20</td>\n",
       "    </tr>\n",
       "    <tr>\n",
       "      <th>2258</th>\n",
       "      <td>Green Street Hooligans 2</td>\n",
       "      <td>2009</td>\n",
       "      <td>Crime</td>\n",
       "      <td>94</td>\n",
       "      <td>Jesse V. Johnson</td>\n",
       "      <td>4.8</td>\n",
       "      <td>76.99</td>\n",
       "    </tr>\n",
       "    <tr>\n",
       "      <th>3502</th>\n",
       "      <td>The Canyons</td>\n",
       "      <td>2013</td>\n",
       "      <td>Drama</td>\n",
       "      <td>99</td>\n",
       "      <td>Paul Schrader</td>\n",
       "      <td>3.8</td>\n",
       "      <td>74.05</td>\n",
       "    </tr>\n",
       "    <tr>\n",
       "      <th>5020</th>\n",
       "      <td>Acrimony</td>\n",
       "      <td>2018</td>\n",
       "      <td>Drama</td>\n",
       "      <td>120</td>\n",
       "      <td>Tyler Perry</td>\n",
       "      <td>5.8</td>\n",
       "      <td>69.65</td>\n",
       "    </tr>\n",
       "    <tr>\n",
       "      <th>5087</th>\n",
       "      <td>Disney's Newsies: The Broadway Musical</td>\n",
       "      <td>2017</td>\n",
       "      <td>Musical</td>\n",
       "      <td>149</td>\n",
       "      <td>Jeff Calhoun, Brett Sullivan</td>\n",
       "      <td>8.5</td>\n",
       "      <td>46.98</td>\n",
       "    </tr>\n",
       "  </tbody>\n",
       "</table>\n",
       "</div>"
      ],
      "text/plain": [
       "                                       Title  Year     Genre  Duration  \\\n",
       "128                             The 24th Day  2004  Thriller        92   \n",
       "445                         Loving Annabelle  2006     Drama        77   \n",
       "1062                             Being Flynn  2012     Drama       102   \n",
       "1235                           Off the Black  2006     Drama        90   \n",
       "1757                          Proud American  2008     Drama       115   \n",
       "1855                            Midnight Son  2011    Horror        88   \n",
       "2258                Green Street Hooligans 2  2009     Crime        94   \n",
       "3502                             The Canyons  2013     Drama        99   \n",
       "5020                                Acrimony  2018     Drama       120   \n",
       "5087  Disney's Newsies: The Broadway Musical  2017   Musical       149   \n",
       "\n",
       "                          Director  Rating  Popularity  \n",
       "128                Tony Piccirillo     6.5       58.50  \n",
       "445               Katherine Brooks     6.3       75.62  \n",
       "1062                    Paul Weitz     6.4       79.05  \n",
       "1235                James Ponsoldt     6.6       36.16  \n",
       "1757                   Fred Ashman     1.1       17.47  \n",
       "1855               Scott Leberecht     5.9       43.20  \n",
       "2258              Jesse V. Johnson     4.8       76.99  \n",
       "3502                 Paul Schrader     3.8       74.05  \n",
       "5020                   Tyler Perry     5.8       69.65  \n",
       "5087  Jeff Calhoun, Brett Sullivan     8.5       46.98  "
      ]
     },
     "execution_count": 6,
     "metadata": {},
     "output_type": "execute_result"
    }
   ],
   "source": [
    "df1.sort_index(axis=0)"
   ]
  },
  {
   "cell_type": "markdown",
   "metadata": {
    "id": "aLmfH8W-Tzm-"
   },
   "source": [
    " stratified sampling (samples are selected based on category)"
   ]
  },
  {
   "cell_type": "raw",
   "metadata": {
    "id": "5XvkYloyT8TK"
   },
   "source": [
    "df2=df.groupby(\"Region\",group_keys=False).apply(lambda x:x.sample(10))"
   ]
  },
  {
   "cell_type": "markdown",
   "metadata": {
    "id": "X-nNOr0VaH3v"
   },
   "source": [
    "Measures of central tendency\n",
    "\n",
    "\n",
    "> It represents the data\n",
    "\n",
    "\n",
    "\n",
    "1.   mean\n",
    "2.   median\n",
    "3.   mode\n",
    "\n"
   ]
  },
  {
   "cell_type": "markdown",
   "metadata": {},
   "source": [
    "Average rating of movies"
   ]
  },
  {
   "cell_type": "code",
   "execution_count": 7,
   "metadata": {},
   "outputs": [
    {
     "data": {
      "text/plain": [
       "5.38"
      ]
     },
     "execution_count": 7,
     "metadata": {},
     "output_type": "execute_result"
    }
   ],
   "source": [
    "round(df['Rating'].mean(),3)"
   ]
  },
  {
   "cell_type": "markdown",
   "metadata": {},
   "source": [
    "Most common rating"
   ]
  },
  {
   "cell_type": "code",
   "execution_count": 8,
   "metadata": {},
   "outputs": [
    {
     "data": {
      "text/plain": [
       "0    5.6\n",
       "Name: Rating, dtype: float64"
      ]
     },
     "execution_count": 8,
     "metadata": {},
     "output_type": "execute_result"
    }
   ],
   "source": [
    "df['Rating'].mode()"
   ]
  },
  {
   "cell_type": "markdown",
   "metadata": {},
   "source": [
    "Average duration of movies"
   ]
  },
  {
   "cell_type": "code",
   "execution_count": 9,
   "metadata": {},
   "outputs": [
    {
     "data": {
      "text/plain": [
       "95.235"
      ]
     },
     "execution_count": 9,
     "metadata": {},
     "output_type": "execute_result"
    }
   ],
   "source": [
    "round(df['Duration'].mean(),3)"
   ]
  },
  {
   "cell_type": "code",
   "execution_count": 10,
   "metadata": {},
   "outputs": [
    {
     "data": {
      "text/plain": [
       "0    90\n",
       "Name: Duration, dtype: int64"
      ]
     },
     "execution_count": 10,
     "metadata": {},
     "output_type": "execute_result"
    }
   ],
   "source": [
    "df['Duration'].mode()"
   ]
  },
  {
   "cell_type": "markdown",
   "metadata": {
    "id": "_gMZdVFltNIQ"
   },
   "source": [
    "univariate analysis can be used in understanding the particular variable\n",
    "more than two  variables cannot be compared\n"
   ]
  },
  {
   "cell_type": "code",
   "execution_count": 11,
   "metadata": {},
   "outputs": [],
   "source": [
    "df=pd.read_csv(\"M2_T2_V1Movies.csv\")"
   ]
  },
  {
   "cell_type": "code",
   "execution_count": 12,
   "metadata": {
    "colab": {
     "base_uri": "https://localhost:8080/",
     "height": 424
    },
    "id": "GeYI-_W1JtB5",
    "outputId": "e4c8b065-26b0-4438-a24f-d10970c3e10c"
   },
   "outputs": [
    {
     "data": {
      "text/html": [
       "<div>\n",
       "<style scoped>\n",
       "    .dataframe tbody tr th:only-of-type {\n",
       "        vertical-align: middle;\n",
       "    }\n",
       "\n",
       "    .dataframe tbody tr th {\n",
       "        vertical-align: top;\n",
       "    }\n",
       "\n",
       "    .dataframe thead th {\n",
       "        text-align: right;\n",
       "    }\n",
       "</style>\n",
       "<table border=\"1\" class=\"dataframe\">\n",
       "  <thead>\n",
       "    <tr style=\"text-align: right;\">\n",
       "      <th></th>\n",
       "      <th>Title</th>\n",
       "      <th>Year</th>\n",
       "      <th>Genre</th>\n",
       "      <th>Duration</th>\n",
       "      <th>Director</th>\n",
       "      <th>Rating</th>\n",
       "      <th>Popularity</th>\n",
       "    </tr>\n",
       "  </thead>\n",
       "  <tbody>\n",
       "    <tr>\n",
       "      <th>0</th>\n",
       "      <td>What Is It?</td>\n",
       "      <td>2005</td>\n",
       "      <td>Drama</td>\n",
       "      <td>72</td>\n",
       "      <td>Crispin Glover</td>\n",
       "      <td>5.6</td>\n",
       "      <td>21.83</td>\n",
       "    </tr>\n",
       "    <tr>\n",
       "      <th>1</th>\n",
       "      <td>Glitter</td>\n",
       "      <td>2001</td>\n",
       "      <td>Drama</td>\n",
       "      <td>104</td>\n",
       "      <td>Vondie Curtis-Hall</td>\n",
       "      <td>2.2</td>\n",
       "      <td>81.69</td>\n",
       "    </tr>\n",
       "    <tr>\n",
       "      <th>2</th>\n",
       "      <td>The Attic Expeditions</td>\n",
       "      <td>2001</td>\n",
       "      <td>Comedy</td>\n",
       "      <td>100</td>\n",
       "      <td>Jeremy Kasten</td>\n",
       "      <td>5.0</td>\n",
       "      <td>42.08</td>\n",
       "    </tr>\n",
       "    <tr>\n",
       "      <th>3</th>\n",
       "      <td>Men in Black II</td>\n",
       "      <td>2002</td>\n",
       "      <td>Action</td>\n",
       "      <td>88</td>\n",
       "      <td>Barry Sonnenfeld</td>\n",
       "      <td>6.2</td>\n",
       "      <td>98.60</td>\n",
       "    </tr>\n",
       "    <tr>\n",
       "      <th>4</th>\n",
       "      <td>Star Wars: Episode II - Attack of the Clones</td>\n",
       "      <td>2002</td>\n",
       "      <td>Action</td>\n",
       "      <td>142</td>\n",
       "      <td>George Lucas</td>\n",
       "      <td>6.5</td>\n",
       "      <td>99.58</td>\n",
       "    </tr>\n",
       "    <tr>\n",
       "      <th>...</th>\n",
       "      <td>...</td>\n",
       "      <td>...</td>\n",
       "      <td>...</td>\n",
       "      <td>...</td>\n",
       "      <td>...</td>\n",
       "      <td>...</td>\n",
       "      <td>...</td>\n",
       "    </tr>\n",
       "    <tr>\n",
       "      <th>5270</th>\n",
       "      <td>Bloodline</td>\n",
       "      <td>2018</td>\n",
       "      <td>Crime</td>\n",
       "      <td>97</td>\n",
       "      <td>Henry Jacobson</td>\n",
       "      <td>6.0</td>\n",
       "      <td>64.69</td>\n",
       "    </tr>\n",
       "    <tr>\n",
       "      <th>5271</th>\n",
       "      <td>The Princess Switch</td>\n",
       "      <td>2018</td>\n",
       "      <td>Comedy</td>\n",
       "      <td>101</td>\n",
       "      <td>Mike Rohl</td>\n",
       "      <td>6.0</td>\n",
       "      <td>80.21</td>\n",
       "    </tr>\n",
       "    <tr>\n",
       "      <th>5272</th>\n",
       "      <td>You Might Be the Killer</td>\n",
       "      <td>2018</td>\n",
       "      <td>Comedy</td>\n",
       "      <td>92</td>\n",
       "      <td>Brett Simmons</td>\n",
       "      <td>5.9</td>\n",
       "      <td>61.14</td>\n",
       "    </tr>\n",
       "    <tr>\n",
       "      <th>5273</th>\n",
       "      <td>The Final Wish</td>\n",
       "      <td>2018</td>\n",
       "      <td>Horror</td>\n",
       "      <td>95</td>\n",
       "      <td>Timothy Woodward Jr.</td>\n",
       "      <td>4.2</td>\n",
       "      <td>54.68</td>\n",
       "    </tr>\n",
       "    <tr>\n",
       "      <th>5274</th>\n",
       "      <td>Shrek Retold</td>\n",
       "      <td>2018</td>\n",
       "      <td>Animation</td>\n",
       "      <td>90</td>\n",
       "      <td>Grant Duffrin</td>\n",
       "      <td>7.5</td>\n",
       "      <td>26.07</td>\n",
       "    </tr>\n",
       "  </tbody>\n",
       "</table>\n",
       "<p>5275 rows × 7 columns</p>\n",
       "</div>"
      ],
      "text/plain": [
       "                                             Title  Year      Genre  Duration  \\\n",
       "0                                      What Is It?  2005      Drama        72   \n",
       "1                                          Glitter  2001      Drama       104   \n",
       "2                            The Attic Expeditions  2001     Comedy       100   \n",
       "3                                  Men in Black II  2002     Action        88   \n",
       "4     Star Wars: Episode II - Attack of the Clones  2002     Action       142   \n",
       "...                                            ...   ...        ...       ...   \n",
       "5270                                     Bloodline  2018      Crime        97   \n",
       "5271                           The Princess Switch  2018     Comedy       101   \n",
       "5272                       You Might Be the Killer  2018     Comedy        92   \n",
       "5273                                The Final Wish  2018     Horror        95   \n",
       "5274                                  Shrek Retold  2018  Animation        90   \n",
       "\n",
       "                  Director  Rating  Popularity  \n",
       "0           Crispin Glover     5.6       21.83  \n",
       "1       Vondie Curtis-Hall     2.2       81.69  \n",
       "2            Jeremy Kasten     5.0       42.08  \n",
       "3         Barry Sonnenfeld     6.2       98.60  \n",
       "4             George Lucas     6.5       99.58  \n",
       "...                    ...     ...         ...  \n",
       "5270        Henry Jacobson     6.0       64.69  \n",
       "5271             Mike Rohl     6.0       80.21  \n",
       "5272         Brett Simmons     5.9       61.14  \n",
       "5273  Timothy Woodward Jr.     4.2       54.68  \n",
       "5274         Grant Duffrin     7.5       26.07  \n",
       "\n",
       "[5275 rows x 7 columns]"
      ]
     },
     "execution_count": 12,
     "metadata": {},
     "output_type": "execute_result"
    }
   ],
   "source": [
    "df"
   ]
  },
  {
   "cell_type": "markdown",
   "metadata": {},
   "source": [
    "MEASURES OF DISPERSION"
   ]
  },
  {
   "cell_type": "raw",
   "metadata": {},
   "source": [
    "Measures of dispersion provide insights into the spread or variability of data points within a dataset."
   ]
  },
  {
   "cell_type": "markdown",
   "metadata": {},
   "source": [
    "Range:\n",
    "    span of ratings in your dataset."
   ]
  },
  {
   "cell_type": "code",
   "execution_count": 13,
   "metadata": {},
   "outputs": [
    {
     "data": {
      "text/plain": [
       "8.6"
      ]
     },
     "execution_count": 13,
     "metadata": {},
     "output_type": "execute_result"
    }
   ],
   "source": [
    "df[\"Rating\"].max()-df.Rating.min()"
   ]
  },
  {
   "cell_type": "markdown",
   "metadata": {},
   "source": [
    "Variance\n",
    "how much the datapoints vary from the mean"
   ]
  },
  {
   "cell_type": "code",
   "execution_count": 14,
   "metadata": {},
   "outputs": [
    {
     "data": {
      "text/plain": [
       "1.56"
      ]
     },
     "execution_count": 14,
     "metadata": {},
     "output_type": "execute_result"
    }
   ],
   "source": [
    "round(df.Rating.var(),2)"
   ]
  },
  {
   "cell_type": "code",
   "execution_count": 15,
   "metadata": {},
   "outputs": [
    {
     "data": {
      "text/plain": [
       "1.25"
      ]
     },
     "execution_count": 15,
     "metadata": {},
     "output_type": "execute_result"
    }
   ],
   "source": [
    "round(df.Rating.std(),2)"
   ]
  },
  {
   "cell_type": "code",
   "execution_count": 16,
   "metadata": {},
   "outputs": [],
   "source": [
    "gen=df[\"Genre\"].value_counts()"
   ]
  },
  {
   "cell_type": "code",
   "execution_count": 17,
   "metadata": {
    "colab": {
     "base_uri": "https://localhost:8080/"
    },
    "id": "95lf5KNXwB3V",
    "outputId": "0cac2a97-d91d-4657-a997-a31c6947cf28",
    "scrolled": true
   },
   "outputs": [
    {
     "data": {
      "text/plain": [
       "Comedy    1670\n",
       "Drama     1187\n",
       "Action     751\n",
       "Horror     689\n",
       "Crime      342\n",
       "Name: Genre, dtype: int64"
      ]
     },
     "execution_count": 17,
     "metadata": {},
     "output_type": "execute_result"
    }
   ],
   "source": [
    "gen[0:5]"
   ]
  },
  {
   "cell_type": "code",
   "execution_count": 18,
   "metadata": {
    "id": "UACpMKtILt5p"
   },
   "outputs": [],
   "source": [
    "l=gen.index[0:3]"
   ]
  },
  {
   "cell_type": "code",
   "execution_count": 19,
   "metadata": {
    "colab": {
     "base_uri": "https://localhost:8080/"
    },
    "id": "xLmrPJsVMB5Q",
    "outputId": "9cf2064a-be4b-4630-8d29-62931e268f24"
   },
   "outputs": [
    {
     "data": {
      "text/plain": [
       "Index(['Comedy', 'Drama', 'Action'], dtype='object')"
      ]
     },
     "execution_count": 19,
     "metadata": {},
     "output_type": "execute_result"
    }
   ],
   "source": [
    "l"
   ]
  },
  {
   "cell_type": "code",
   "execution_count": 20,
   "metadata": {
    "id": "ZByzifAeMEOo"
   },
   "outputs": [],
   "source": [
    "dframe=df[df.Genre.isin(l)]"
   ]
  },
  {
   "cell_type": "code",
   "execution_count": 21,
   "metadata": {
    "colab": {
     "base_uri": "https://localhost:8080/",
     "height": 424
    },
    "id": "TeL8W8wEMLxU",
    "outputId": "07182188-3054-4bee-858b-6d80d172f29b"
   },
   "outputs": [
    {
     "data": {
      "text/html": [
       "<div>\n",
       "<style scoped>\n",
       "    .dataframe tbody tr th:only-of-type {\n",
       "        vertical-align: middle;\n",
       "    }\n",
       "\n",
       "    .dataframe tbody tr th {\n",
       "        vertical-align: top;\n",
       "    }\n",
       "\n",
       "    .dataframe thead th {\n",
       "        text-align: right;\n",
       "    }\n",
       "</style>\n",
       "<table border=\"1\" class=\"dataframe\">\n",
       "  <thead>\n",
       "    <tr style=\"text-align: right;\">\n",
       "      <th></th>\n",
       "      <th>Title</th>\n",
       "      <th>Year</th>\n",
       "      <th>Genre</th>\n",
       "      <th>Duration</th>\n",
       "      <th>Director</th>\n",
       "      <th>Rating</th>\n",
       "      <th>Popularity</th>\n",
       "    </tr>\n",
       "  </thead>\n",
       "  <tbody>\n",
       "    <tr>\n",
       "      <th>0</th>\n",
       "      <td>What Is It?</td>\n",
       "      <td>2005</td>\n",
       "      <td>Drama</td>\n",
       "      <td>72</td>\n",
       "      <td>Crispin Glover</td>\n",
       "      <td>5.6</td>\n",
       "      <td>21.83</td>\n",
       "    </tr>\n",
       "    <tr>\n",
       "      <th>1</th>\n",
       "      <td>Glitter</td>\n",
       "      <td>2001</td>\n",
       "      <td>Drama</td>\n",
       "      <td>104</td>\n",
       "      <td>Vondie Curtis-Hall</td>\n",
       "      <td>2.2</td>\n",
       "      <td>81.69</td>\n",
       "    </tr>\n",
       "    <tr>\n",
       "      <th>2</th>\n",
       "      <td>The Attic Expeditions</td>\n",
       "      <td>2001</td>\n",
       "      <td>Comedy</td>\n",
       "      <td>100</td>\n",
       "      <td>Jeremy Kasten</td>\n",
       "      <td>5.0</td>\n",
       "      <td>42.08</td>\n",
       "    </tr>\n",
       "    <tr>\n",
       "      <th>3</th>\n",
       "      <td>Men in Black II</td>\n",
       "      <td>2002</td>\n",
       "      <td>Action</td>\n",
       "      <td>88</td>\n",
       "      <td>Barry Sonnenfeld</td>\n",
       "      <td>6.2</td>\n",
       "      <td>98.60</td>\n",
       "    </tr>\n",
       "    <tr>\n",
       "      <th>4</th>\n",
       "      <td>Star Wars: Episode II - Attack of the Clones</td>\n",
       "      <td>2002</td>\n",
       "      <td>Action</td>\n",
       "      <td>142</td>\n",
       "      <td>George Lucas</td>\n",
       "      <td>6.5</td>\n",
       "      <td>99.58</td>\n",
       "    </tr>\n",
       "    <tr>\n",
       "      <th>...</th>\n",
       "      <td>...</td>\n",
       "      <td>...</td>\n",
       "      <td>...</td>\n",
       "      <td>...</td>\n",
       "      <td>...</td>\n",
       "      <td>...</td>\n",
       "      <td>...</td>\n",
       "    </tr>\n",
       "    <tr>\n",
       "      <th>5263</th>\n",
       "      <td>President Evil</td>\n",
       "      <td>2018</td>\n",
       "      <td>Comedy</td>\n",
       "      <td>81</td>\n",
       "      <td>Richard Lowry</td>\n",
       "      <td>4.0</td>\n",
       "      <td>15.02</td>\n",
       "    </tr>\n",
       "    <tr>\n",
       "      <th>5267</th>\n",
       "      <td>A Christmas Prince: The Royal Wedding</td>\n",
       "      <td>2018</td>\n",
       "      <td>Drama</td>\n",
       "      <td>92</td>\n",
       "      <td>John Schultz</td>\n",
       "      <td>5.3</td>\n",
       "      <td>70.36</td>\n",
       "    </tr>\n",
       "    <tr>\n",
       "      <th>5268</th>\n",
       "      <td>Jurassic Galaxy</td>\n",
       "      <td>2018</td>\n",
       "      <td>Action</td>\n",
       "      <td>74</td>\n",
       "      <td>James Kondelik, Jon Kondelik</td>\n",
       "      <td>2.3</td>\n",
       "      <td>2.59</td>\n",
       "    </tr>\n",
       "    <tr>\n",
       "      <th>5271</th>\n",
       "      <td>The Princess Switch</td>\n",
       "      <td>2018</td>\n",
       "      <td>Comedy</td>\n",
       "      <td>101</td>\n",
       "      <td>Mike Rohl</td>\n",
       "      <td>6.0</td>\n",
       "      <td>80.21</td>\n",
       "    </tr>\n",
       "    <tr>\n",
       "      <th>5272</th>\n",
       "      <td>You Might Be the Killer</td>\n",
       "      <td>2018</td>\n",
       "      <td>Comedy</td>\n",
       "      <td>92</td>\n",
       "      <td>Brett Simmons</td>\n",
       "      <td>5.9</td>\n",
       "      <td>61.14</td>\n",
       "    </tr>\n",
       "  </tbody>\n",
       "</table>\n",
       "<p>3608 rows × 7 columns</p>\n",
       "</div>"
      ],
      "text/plain": [
       "                                             Title  Year   Genre  Duration  \\\n",
       "0                                      What Is It?  2005   Drama        72   \n",
       "1                                          Glitter  2001   Drama       104   \n",
       "2                            The Attic Expeditions  2001  Comedy       100   \n",
       "3                                  Men in Black II  2002  Action        88   \n",
       "4     Star Wars: Episode II - Attack of the Clones  2002  Action       142   \n",
       "...                                            ...   ...     ...       ...   \n",
       "5263                                President Evil  2018  Comedy        81   \n",
       "5267         A Christmas Prince: The Royal Wedding  2018   Drama        92   \n",
       "5268                               Jurassic Galaxy  2018  Action        74   \n",
       "5271                           The Princess Switch  2018  Comedy       101   \n",
       "5272                       You Might Be the Killer  2018  Comedy        92   \n",
       "\n",
       "                          Director  Rating  Popularity  \n",
       "0                   Crispin Glover     5.6       21.83  \n",
       "1               Vondie Curtis-Hall     2.2       81.69  \n",
       "2                    Jeremy Kasten     5.0       42.08  \n",
       "3                 Barry Sonnenfeld     6.2       98.60  \n",
       "4                     George Lucas     6.5       99.58  \n",
       "...                            ...     ...         ...  \n",
       "5263                 Richard Lowry     4.0       15.02  \n",
       "5267                  John Schultz     5.3       70.36  \n",
       "5268  James Kondelik, Jon Kondelik     2.3        2.59  \n",
       "5271                     Mike Rohl     6.0       80.21  \n",
       "5272                 Brett Simmons     5.9       61.14  \n",
       "\n",
       "[3608 rows x 7 columns]"
      ]
     },
     "execution_count": 21,
     "metadata": {},
     "output_type": "execute_result"
    }
   ],
   "source": [
    "dframe"
   ]
  },
  {
   "cell_type": "code",
   "execution_count": 22,
   "metadata": {
    "colab": {
     "base_uri": "https://localhost:8080/",
     "height": 230
    },
    "id": "SQqZKL_2MRO8",
    "outputId": "1bbe6cde-d70a-460d-9a32-99c5fb43ffbc"
   },
   "outputs": [
    {
     "name": "stderr",
     "output_type": "stream",
     "text": [
      "C:\\Users\\fathi\\AppData\\Local\\Temp\\ipykernel_11368\\2167762328.py:1: FutureWarning: Indexing with multiple keys (implicitly converted to a tuple of keys) will be deprecated, use a list instead.\n",
      "  dframe.groupby(\"Genre\")[\"Rating\",\"Duration\"].mean()\n"
     ]
    },
    {
     "data": {
      "text/html": [
       "<div>\n",
       "<style scoped>\n",
       "    .dataframe tbody tr th:only-of-type {\n",
       "        vertical-align: middle;\n",
       "    }\n",
       "\n",
       "    .dataframe tbody tr th {\n",
       "        vertical-align: top;\n",
       "    }\n",
       "\n",
       "    .dataframe thead th {\n",
       "        text-align: right;\n",
       "    }\n",
       "</style>\n",
       "<table border=\"1\" class=\"dataframe\">\n",
       "  <thead>\n",
       "    <tr style=\"text-align: right;\">\n",
       "      <th></th>\n",
       "      <th>Rating</th>\n",
       "      <th>Duration</th>\n",
       "    </tr>\n",
       "    <tr>\n",
       "      <th>Genre</th>\n",
       "      <th></th>\n",
       "      <th></th>\n",
       "    </tr>\n",
       "  </thead>\n",
       "  <tbody>\n",
       "    <tr>\n",
       "      <th>Action</th>\n",
       "      <td>4.838083</td>\n",
       "      <td>96.390146</td>\n",
       "    </tr>\n",
       "    <tr>\n",
       "      <th>Comedy</th>\n",
       "      <td>5.551317</td>\n",
       "      <td>94.711377</td>\n",
       "    </tr>\n",
       "    <tr>\n",
       "      <th>Drama</th>\n",
       "      <td>5.793260</td>\n",
       "      <td>97.441449</td>\n",
       "    </tr>\n",
       "  </tbody>\n",
       "</table>\n",
       "</div>"
      ],
      "text/plain": [
       "          Rating   Duration\n",
       "Genre                      \n",
       "Action  4.838083  96.390146\n",
       "Comedy  5.551317  94.711377\n",
       "Drama   5.793260  97.441449"
      ]
     },
     "execution_count": 22,
     "metadata": {},
     "output_type": "execute_result"
    }
   ],
   "source": [
    "dframe.groupby(\"Genre\")[\"Rating\",\"Duration\"].mean()"
   ]
  },
  {
   "cell_type": "markdown",
   "metadata": {
    "id": "O6RC2lxhvUNj"
   },
   "source": [
    "PROBABILTY DENSITY FUNCTION:\n",
    "\n",
    "\n",
    ">  a way to describe the likelihood of different outcomes in a random experiment\n",
    "and is applied to describe continuous probability distributions.\n",
    "\n"
   ]
  },
  {
   "cell_type": "code",
   "execution_count": 23,
   "metadata": {
    "id": "aEiq7epsNRH0"
   },
   "outputs": [],
   "source": [
    "import matplotlib.pyplot as plt\n",
    "import seaborn as sns"
   ]
  },
  {
   "cell_type": "code",
   "execution_count": 24,
   "metadata": {
    "colab": {
     "base_uri": "https://localhost:8080/",
     "height": 466
    },
    "id": "CWQosnu4VY8i",
    "outputId": "b33b091d-9ad9-432a-ed71-08079a2a7230"
   },
   "outputs": [
    {
     "data": {
      "text/plain": [
       "<AxesSubplot:xlabel='Rating', ylabel='Density'>"
      ]
     },
     "execution_count": 24,
     "metadata": {},
     "output_type": "execute_result"
    },
    {
     "data": {
      "image/png": "[encoded data removed]",
      "text/plain": [
       "<Figure size 640x480 with 1 Axes>"
      ]
     },
     "metadata": {},
     "output_type": "display_data"
    }
   ],
   "source": [
    "sns.kdeplot(df.Rating)"
   ]
  },
  {
   "cell_type": "markdown",
   "metadata": {
    "id": "-C4hk90EiMGC"
   },
   "source": [
    "if we need to find the probability of getting more than rating 8"
   ]
  },
  {
   "cell_type": "code",
   "execution_count": 25,
   "metadata": {
    "id": "11SXiY7EiL2J"
   },
   "outputs": [],
   "source": [
    "import scipy.stats as stats"
   ]
  },
  {
   "cell_type": "code",
   "execution_count": 17,
   "metadata": {
    "id": "nYvXXZrniYo3"
   },
   "outputs": [],
   "source": [
    "prob=1-stats.norm.cdf(8,loc=df.Rating.mean(),scale=df.Rating.std())"
   ]
  },
  {
   "cell_type": "code",
   "execution_count": 18,
   "metadata": {
    "colab": {
     "base_uri": "https://localhost:8080/"
    },
    "id": "tK-AHRiCi9dU",
    "outputId": "eeb79e78-8d1d-4abd-a4ae-967bb432ac1d"
   },
   "outputs": [
    {
     "name": "stdout",
     "output_type": "stream",
     "text": [
      "percentage of getting more than rating 8: 1.79\n"
     ]
    }
   ],
   "source": [
    "print(f\"percentage of getting more than rating 8: {round(prob*100,2)}\")"
   ]
  },
  {
   "cell_type": "markdown",
   "metadata": {
    "id": "F3qwYxxxlc5K"
   },
   "source": [
    "if we need to find the probability of getting less: than rating 8"
   ]
  },
  {
   "cell_type": "code",
   "execution_count": 19,
   "metadata": {
    "id": "bHH7cUMMkobM"
   },
   "outputs": [],
   "source": [
    "prob=stats.norm.cdf(8,loc=df.Rating.mean(),scale=df.Rating.std())"
   ]
  },
  {
   "cell_type": "code",
   "execution_count": 20,
   "metadata": {
    "colab": {
     "base_uri": "https://localhost:8080/"
    },
    "id": "dr9ZFmUFoekF",
    "outputId": "85cea9c8-4e05-439f-9b87-7ee4c818e907"
   },
   "outputs": [
    {
     "name": "stdout",
     "output_type": "stream",
     "text": [
      "percentage of getting less than rating 8: 98.21\n"
     ]
    }
   ],
   "source": [
    "print(f\"percentage of getting less than rating 8: {round(prob*100,2)}\")"
   ]
  },
  {
   "cell_type": "code",
   "execution_count": 21,
   "metadata": {
    "colab": {
     "base_uri": "https://localhost:8080/",
     "height": 657
    },
    "id": "c_waK16SwxaD",
    "outputId": "581ac6b9-1b59-400f-c4a7-5ffe163e1b56"
   },
   "outputs": [
    {
     "name": "stderr",
     "output_type": "stream",
     "text": [
      "C:\\Users\\fathi\\anaconda3\\lib\\site-packages\\seaborn\\distributions.py:2619: FutureWarning: `distplot` is a deprecated function and will be removed in a future version. Please adapt your code to use either `displot` (a figure-level function with similar flexibility) or `histplot` (an axes-level function for histograms).\n",
      "  warnings.warn(msg, FutureWarning)\n"
     ]
    },
    {
     "data": {
      "text/plain": [
       "<AxesSubplot:xlabel='Duration', ylabel='Density'>"
      ]
     },
     "execution_count": 21,
     "metadata": {},
     "output_type": "execute_result"
    },
    {
     "data": {
      "image/png": "[encoded data removed]",
      "text/plain": [
       "<Figure size 640x480 with 1 Axes>"
      ]
     },
     "metadata": {},
     "output_type": "display_data"
    }
   ],
   "source": [
    "sns.distplot(df.Duration)"
   ]
  },
  {
   "cell_type": "markdown",
   "metadata": {
    "id": "vIwByPpIw_-b"
   },
   "source": [
    "Conclusion:\n",
    "\n",
    "\n",
    "> movies are more likely to have 75-125 mins duration\n",
    "\n",
    "> and less likely to have less than 50 minutes and more than 130\n",
    "\n",
    "\n",
    "\n",
    "\n"
   ]
  },
  {
   "cell_type": "markdown",
   "metadata": {
    "id": "CjJxyfwsxul3"
   },
   "source": [
    "to find the probability of the movies having more than 80 minutes"
   ]
  },
  {
   "cell_type": "code",
   "execution_count": null,
   "metadata": {},
   "outputs": [],
   "source": [
    "prob=stats.norm.cdf(80,loc=df.Duration.mean(),scale=df.Duration.std())"
   ]
  },
  {
   "cell_type": "code",
   "execution_count": 37,
   "metadata": {
    "colab": {
     "base_uri": "https://localhost:8080/"
    },
    "id": "zpJgtElKyaUW",
    "outputId": "a0a9ce7f-a78b-4218-a4ae-33467c048af5"
   },
   "outputs": [
    {
     "name": "stdout",
     "output_type": "stream",
     "text": [
      "percentage of movies having more than 80 minutes: 6.64\n"
     ]
    }
   ],
   "source": [
    "print(f\"percentage of movies having more than 80 minutes: {round(prob*100,2)}\")"
   ]
  },
  {
   "cell_type": "markdown",
   "metadata": {},
   "source": [
    "to find the probability movies having popularity between 80 and 90"
   ]
  },
  {
   "cell_type": "code",
   "execution_count": 42,
   "metadata": {
    "id": "GdjwscPOxiL2"
   },
   "outputs": [],
   "source": [
    "prob = stats.norm.cdf(90, loc=df.Popularity.mean(), scale=df.Popularity.std()) - \\\n",
    "       stats.norm.cdf(80, loc=df.Popularity.mean(), scale=df.Popularity.std())\n"
   ]
  },
  {
   "cell_type": "code",
   "execution_count": 43,
   "metadata": {},
   "outputs": [
    {
     "name": "stdout",
     "output_type": "stream",
     "text": [
      "percentage of movies having popularity between 80 and 90: 6.64\n"
     ]
    }
   ],
   "source": [
    "print(f\"percentage of movies having popularity between 80 and 90: {round(prob*100,2)}\")"
   ]
  },
  {
   "cell_type": "code",
   "execution_count": 24,
   "metadata": {
    "colab": {
     "base_uri": "https://localhost:8080/",
     "height": 888
    },
    "id": "OTFsMkRoypS-",
    "outputId": "51ab0581-f58d-4712-9a1c-15bbf33cba83"
   },
   "outputs": [
    {
     "data": {
      "text/plain": [
       "(array([ 0,  1,  2,  3,  4,  5,  6,  7,  8,  9, 10, 11, 12, 13, 14, 15, 16,\n",
       "        17, 18]),\n",
       " [Text(0, 0, 'Drama'),\n",
       "  Text(1, 0, 'Comedy'),\n",
       "  Text(2, 0, 'Action'),\n",
       "  Text(3, 0, 'Animation'),\n",
       "  Text(4, 0, 'Crime'),\n",
       "  Text(5, 0, 'Romance'),\n",
       "  Text(6, 0, 'Biography'),\n",
       "  Text(7, 0, 'Horror'),\n",
       "  Text(8, 0, 'Thriller'),\n",
       "  Text(9, 0, 'Musical'),\n",
       "  Text(10, 0, 'Adventure'),\n",
       "  Text(11, 0, 'Sci-Fi'),\n",
       "  Text(12, 0, 'Mystery'),\n",
       "  Text(13, 0, 'Fantasy'),\n",
       "  Text(14, 0, 'Music'),\n",
       "  Text(15, 0, 'Western'),\n",
       "  Text(16, 0, 'Family'),\n",
       "  Text(17, 0, 'History'),\n",
       "  Text(18, 0, 'Sport')])"
      ]
     },
     "execution_count": 24,
     "metadata": {},
     "output_type": "execute_result"
    },
    {
     "data": {
      "image/png": "[encoded data removed]",
      "text/plain": [
       "<Figure size 1000x500 with 1 Axes>"
      ]
     },
     "metadata": {},
     "output_type": "display_data"
    }
   ],
   "source": [
    "fig=plt.figure(figsize=(10,5))\n",
    "sns.boxplot(x=df.Genre,y=df.Duration,palette=\"pastel\")\n",
    "plt.xticks(rotation=\"vertical\")"
   ]
  },
  {
   "cell_type": "markdown",
   "metadata": {
    "id": "JKgQ0SaewaqT"
   },
   "source": [
    "PROBABILITY MASS FUNCTION(PMF)\n",
    "\n",
    "\n",
    ">  is used to describe discrete probability distributions that is it shows the exact probabilities for each outcome.\n",
    "\n"
   ]
  },
  {
   "cell_type": "code",
   "execution_count": 44,
   "metadata": {
    "id": "bTS4BscNSo5k"
   },
   "outputs": [],
   "source": [
    "from collections import Counter as c"
   ]
  },
  {
   "cell_type": "code",
   "execution_count": 45,
   "metadata": {
    "id": "nBQwsB9W1Kqo"
   },
   "outputs": [],
   "source": [
    "pairs=c(df['Rating'])"
   ]
  },
  {
   "cell_type": "code",
   "execution_count": 46,
   "metadata": {
    "id": "fvUPTxnj2m7U"
   },
   "outputs": [],
   "source": [
    "pmf={i:round(j/len(df['Rating']),2) for i,j in pairs.items()}"
   ]
  },
  {
   "cell_type": "code",
   "execution_count": 48,
   "metadata": {
    "colab": {
     "base_uri": "https://localhost:8080/",
     "height": 542
    },
    "id": "rDBhzKPB2oeH",
    "outputId": "55bb907a-c977-46d7-c991-7b94c5621f35"
   },
   "outputs": [
    {
     "data": {
      "application/vnd.plotly.v1+json": {
       "config": {
        "plotlyServerURL": "https://plot.ly"
       },
       "data": [
        {
         "alignmentgroup": "True",
         "hovertemplate": "Rating=%{x}<br>Probability=%{y}<extra></extra>",
         "legendgroup": "",
         "marker": {
          "color": "#636efa",
          "pattern": {
           "shape": ""
          }
         },
         "name": "",
         "offsetgroup": "",
         "orientation": "v",
         "showlegend": false,
         "textposition": "auto",
         "type": "bar",
         "x": [
          5.6,
          2.2,
          5,
          6.2,
          6.5,
          7.5,
          5.3,
          7.8,
          5.7,
          7.2,
          4.5,
          3.2,
          7.3,
          7.6,
          5.2,
          5.5,
          5.9,
          4.7,
          7.1,
          5.4,
          6.3,
          6.1,
          6.4,
          3.6,
          8,
          3.7,
          2.7,
          2.4,
          6.6,
          6,
          5.1,
          5.8,
          4.4,
          3.5,
          3.9,
          6.8,
          4,
          4.6,
          4.1,
          4.2,
          4.9,
          6.7,
          4.8,
          3.1,
          7.4,
          7,
          2.5,
          3,
          3.4,
          1.5,
          3.3,
          6.9,
          7.7,
          2.9,
          8.2,
          2.8,
          2.3,
          4.3,
          2.1,
          1.8,
          8.3,
          2,
          3.8,
          1.9,
          1.7,
          1.4,
          2.6,
          8.8,
          7.9,
          1.2,
          8.1,
          8.4,
          1.1,
          1.6,
          9.7,
          8.5,
          1.3,
          9.2,
          9.1,
          8.7
         ],
         "xaxis": "x",
         "y": [
          0.04,
          0,
          0.02,
          0.03,
          0.03,
          0.01,
          0.03,
          0,
          0.04,
          0.01,
          0.02,
          0.01,
          0.01,
          0,
          0.03,
          0.04,
          0.03,
          0.02,
          0.01,
          0.03,
          0.03,
          0.04,
          0.03,
          0.01,
          0,
          0.01,
          0.01,
          0,
          0.03,
          0.03,
          0.03,
          0.04,
          0.02,
          0.01,
          0.01,
          0.02,
          0.01,
          0.02,
          0.02,
          0.02,
          0.02,
          0.02,
          0.02,
          0,
          0.01,
          0.01,
          0,
          0,
          0.01,
          0,
          0.01,
          0.02,
          0,
          0.01,
          0,
          0.01,
          0,
          0.02,
          0,
          0,
          0,
          0,
          0.01,
          0,
          0,
          0,
          0,
          0,
          0,
          0,
          0,
          0,
          0,
          0,
          0,
          0,
          0,
          0,
          0,
          0
         ],
         "yaxis": "y"
        }
       ],
       "layout": {
        "barmode": "relative",
        "legend": {
         "tracegroupgap": 0
        },
        "template": {
         "data": {
          "bar": [
           {
            "error_x": {
             "color": "#2a3f5f"
            },
            "error_y": {
             "color": "#2a3f5f"
            },
            "marker": {
             "line": {
              "color": "#E5ECF6",
              "width": 0.5
             },
             "pattern": {
              "fillmode": "overlay",
              "size": 10,
              "solidity": 0.2
             }
            },
            "type": "bar"
           }
          ],
          "barpolar": [
           {
            "marker": {
             "line": {
              "color": "#E5ECF6",
              "width": 0.5
             },
             "pattern": {
              "fillmode": "overlay",
              "size": 10,
              "solidity": 0.2
             }
            },
            "type": "barpolar"
           }
          ],
          "carpet": [
           {
            "aaxis": {
             "endlinecolor": "#2a3f5f",
             "gridcolor": "white",
             "linecolor": "white",
             "minorgridcolor": "white",
             "startlinecolor": "#2a3f5f"
            },
            "baxis": {
             "endlinecolor": "#2a3f5f",
             "gridcolor": "white",
             "linecolor": "white",
             "minorgridcolor": "white",
             "startlinecolor": "#2a3f5f"
            },
            "type": "carpet"
           }
          ],
          "choropleth": [
           {
            "colorbar": {
             "outlinewidth": 0,
             "ticks": ""
            },
            "type": "choropleth"
           }
          ],
          "contour": [
           {
            "colorbar": {
             "outlinewidth": 0,
             "ticks": ""
            },
            "colorscale": [
             [
              0,
              "#0d0887"
             ],
             [
              0.1111111111111111,
              "#46039f"
             ],
             [
              0.2222222222222222,
              "#7201a8"
             ],
             [
              0.3333333333333333,
              "#9c179e"
             ],
             [
              0.4444444444444444,
              "#bd3786"
             ],
             [
              0.5555555555555556,
              "#d8576b"
             ],
             [
              0.6666666666666666,
              "#ed7953"
             ],
             [
              0.7777777777777778,
              "#fb9f3a"
             ],
             [
              0.8888888888888888,
              "#fdca26"
             ],
             [
              1,
              "#f0f921"
             ]
            ],
            "type": "contour"
           }
          ],
          "contourcarpet": [
           {
            "colorbar": {
             "outlinewidth": 0,
             "ticks": ""
            },
            "type": "contourcarpet"
           }
          ],
          "heatmap": [
           {
            "colorbar": {
             "outlinewidth": 0,
             "ticks": ""
            },
            "colorscale": [
             [
              0,
              "#0d0887"
             ],
             [
              0.1111111111111111,
              "#46039f"
             ],
             [
              0.2222222222222222,
              "#7201a8"
             ],
             [
              0.3333333333333333,
              "#9c179e"
             ],
             [
              0.4444444444444444,
              "#bd3786"
             ],
             [
              0.5555555555555556,
              "#d8576b"
             ],
             [
              0.6666666666666666,
              "#ed7953"
             ],
             [
              0.7777777777777778,
              "#fb9f3a"
             ],
             [
              0.8888888888888888,
              "#fdca26"
             ],
             [
              1,
              "#f0f921"
             ]
            ],
            "type": "heatmap"
           }
          ],
          "heatmapgl": [
           {
            "colorbar": {
             "outlinewidth": 0,
             "ticks": ""
            },
            "colorscale": [
             [
              0,
              "#0d0887"
             ],
             [
              0.1111111111111111,
              "#46039f"
             ],
             [
              0.2222222222222222,
              "#7201a8"
             ],
             [
              0.3333333333333333,
              "#9c179e"
             ],
             [
              0.4444444444444444,
              "#bd3786"
             ],
             [
              0.5555555555555556,
              "#d8576b"
             ],
             [
              0.6666666666666666,
              "#ed7953"
             ],
             [
              0.7777777777777778,
              "#fb9f3a"
             ],
             [
              0.8888888888888888,
              "#fdca26"
             ],
             [
              1,
              "#f0f921"
             ]
            ],
            "type": "heatmapgl"
           }
          ],
          "histogram": [
           {
            "marker": {
             "pattern": {
              "fillmode": "overlay",
              "size": 10,
              "solidity": 0.2
             }
            },
            "type": "histogram"
           }
          ],
          "histogram2d": [
           {
            "colorbar": {
             "outlinewidth": 0,
             "ticks": ""
            },
            "colorscale": [
             [
              0,
              "#0d0887"
             ],
             [
              0.1111111111111111,
              "#46039f"
             ],
             [
              0.2222222222222222,
              "#7201a8"
             ],
             [
              0.3333333333333333,
              "#9c179e"
             ],
             [
              0.4444444444444444,
              "#bd3786"
             ],
             [
              0.5555555555555556,
              "#d8576b"
             ],
             [
              0.6666666666666666,
              "#ed7953"
             ],
             [
              0.7777777777777778,
              "#fb9f3a"
             ],
             [
              0.8888888888888888,
              "#fdca26"
             ],
             [
              1,
              "#f0f921"
             ]
            ],
            "type": "histogram2d"
           }
          ],
          "histogram2dcontour": [
           {
            "colorbar": {
             "outlinewidth": 0,
             "ticks": ""
            },
            "colorscale": [
             [
              0,
              "#0d0887"
             ],
             [
              0.1111111111111111,
              "#46039f"
             ],
             [
              0.2222222222222222,
              "#7201a8"
             ],
             [
              0.3333333333333333,
              "#9c179e"
             ],
             [
              0.4444444444444444,
              "#bd3786"
             ],
             [
              0.5555555555555556,
              "#d8576b"
             ],
             [
              0.6666666666666666,
              "#ed7953"
             ],
             [
              0.7777777777777778,
              "#fb9f3a"
             ],
             [
              0.8888888888888888,
              "#fdca26"
             ],
             [
              1,
              "#f0f921"
             ]
            ],
            "type": "histogram2dcontour"
           }
          ],
          "mesh3d": [
           {
            "colorbar": {
             "outlinewidth": 0,
             "ticks": ""
            },
            "type": "mesh3d"
           }
          ],
          "parcoords": [
           {
            "line": {
             "colorbar": {
              "outlinewidth": 0,
              "ticks": ""
             }
            },
            "type": "parcoords"
           }
          ],
          "pie": [
           {
            "automargin": true,
            "type": "pie"
           }
          ],
          "scatter": [
           {
            "fillpattern": {
             "fillmode": "overlay",
             "size": 10,
             "solidity": 0.2
            },
            "type": "scatter"
           }
          ],
          "scatter3d": [
           {
            "line": {
             "colorbar": {
              "outlinewidth": 0,
              "ticks": ""
             }
            },
            "marker": {
             "colorbar": {
              "outlinewidth": 0,
              "ticks": ""
             }
            },
            "type": "scatter3d"
           }
          ],
          "scattercarpet": [
           {
            "marker": {
             "colorbar": {
              "outlinewidth": 0,
              "ticks": ""
             }
            },
            "type": "scattercarpet"
           }
          ],
          "scattergeo": [
           {
            "marker": {
             "colorbar": {
              "outlinewidth": 0,
              "ticks": ""
             }
            },
            "type": "scattergeo"
           }
          ],
          "scattergl": [
           {
            "marker": {
             "colorbar": {
              "outlinewidth": 0,
              "ticks": ""
             }
            },
            "type": "scattergl"
           }
          ],
          "scattermapbox": [
           {
            "marker": {
             "colorbar": {
              "outlinewidth": 0,
              "ticks": ""
             }
            },
            "type": "scattermapbox"
           }
          ],
          "scatterpolar": [
           {
            "marker": {
             "colorbar": {
              "outlinewidth": 0,
              "ticks": ""
             }
            },
            "type": "scatterpolar"
           }
          ],
          "scatterpolargl": [
           {
            "marker": {
             "colorbar": {
              "outlinewidth": 0,
              "ticks": ""
             }
            },
            "type": "scatterpolargl"
           }
          ],
          "scatterternary": [
           {
            "marker": {
             "colorbar": {
              "outlinewidth": 0,
              "ticks": ""
             }
            },
            "type": "scatterternary"
           }
          ],
          "surface": [
           {
            "colorbar": {
             "outlinewidth": 0,
             "ticks": ""
            },
            "colorscale": [
             [
              0,
              "#0d0887"
             ],
             [
              0.1111111111111111,
              "#46039f"
             ],
             [
              0.2222222222222222,
              "#7201a8"
             ],
             [
              0.3333333333333333,
              "#9c179e"
             ],
             [
              0.4444444444444444,
              "#bd3786"
             ],
             [
              0.5555555555555556,
              "#d8576b"
             ],
             [
              0.6666666666666666,
              "#ed7953"
             ],
             [
              0.7777777777777778,
              "#fb9f3a"
             ],
             [
              0.8888888888888888,
              "#fdca26"
             ],
             [
              1,
              "#f0f921"
             ]
            ],
            "type": "surface"
           }
          ],
          "table": [
           {
            "cells": {
             "fill": {
              "color": "#EBF0F8"
             },
             "line": {
              "color": "white"
             }
            },
            "header": {
             "fill": {
              "color": "#C8D4E3"
             },
             "line": {
              "color": "white"
             }
            },
            "type": "table"
           }
          ]
         },
         "layout": {
          "annotationdefaults": {
           "arrowcolor": "#2a3f5f",
           "arrowhead": 0,
           "arrowwidth": 1
          },
          "autotypenumbers": "strict",
          "coloraxis": {
           "colorbar": {
            "outlinewidth": 0,
            "ticks": ""
           }
          },
          "colorscale": {
           "diverging": [
            [
             0,
             "#8e0152"
            ],
            [
             0.1,
             "#c51b7d"
            ],
            [
             0.2,
             "#de77ae"
            ],
            [
             0.3,
             "#f1b6da"
            ],
            [
             0.4,
             "#fde0ef"
            ],
            [
             0.5,
             "#f7f7f7"
            ],
            [
             0.6,
             "#e6f5d0"
            ],
            [
             0.7,
             "#b8e186"
            ],
            [
             0.8,
             "#7fbc41"
            ],
            [
             0.9,
             "#4d9221"
            ],
            [
             1,
             "#276419"
            ]
           ],
           "sequential": [
            [
             0,
             "#0d0887"
            ],
            [
             0.1111111111111111,
             "#46039f"
            ],
            [
             0.2222222222222222,
             "#7201a8"
            ],
            [
             0.3333333333333333,
             "#9c179e"
            ],
            [
             0.4444444444444444,
             "#bd3786"
            ],
            [
             0.5555555555555556,
             "#d8576b"
            ],
            [
             0.6666666666666666,
             "#ed7953"
            ],
            [
             0.7777777777777778,
             "#fb9f3a"
            ],
            [
             0.8888888888888888,
             "#fdca26"
            ],
            [
             1,
             "#f0f921"
            ]
           ],
           "sequentialminus": [
            [
             0,
             "#0d0887"
            ],
            [
             0.1111111111111111,
             "#46039f"
            ],
            [
             0.2222222222222222,
             "#7201a8"
            ],
            [
             0.3333333333333333,
             "#9c179e"
            ],
            [
             0.4444444444444444,
             "#bd3786"
            ],
            [
             0.5555555555555556,
             "#d8576b"
            ],
            [
             0.6666666666666666,
             "#ed7953"
            ],
            [
             0.7777777777777778,
             "#fb9f3a"
            ],
            [
             0.8888888888888888,
             "#fdca26"
            ],
            [
             1,
             "#f0f921"
            ]
           ]
          },
          "colorway": [
           "#636efa",
           "#EF553B",
           "#00cc96",
           "#ab63fa",
           "#FFA15A",
           "#19d3f3",
           "#FF6692",
           "#B6E880",
           "#FF97FF",
           "#FECB52"
          ],
          "font": {
           "color": "#2a3f5f"
          },
          "geo": {
           "bgcolor": "white",
           "lakecolor": "white",
           "landcolor": "#E5ECF6",
           "showlakes": true,
           "showland": true,
           "subunitcolor": "white"
          },
          "hoverlabel": {
           "align": "left"
          },
          "hovermode": "closest",
          "mapbox": {
           "style": "light"
          },
          "paper_bgcolor": "white",
          "plot_bgcolor": "#E5ECF6",
          "polar": {
           "angularaxis": {
            "gridcolor": "white",
            "linecolor": "white",
            "ticks": ""
           },
           "bgcolor": "#E5ECF6",
           "radialaxis": {
            "gridcolor": "white",
            "linecolor": "white",
            "ticks": ""
           }
          },
          "scene": {
           "xaxis": {
            "backgroundcolor": "#E5ECF6",
            "gridcolor": "white",
            "gridwidth": 2,
            "linecolor": "white",
            "showbackground": true,
            "ticks": "",
            "zerolinecolor": "white"
           },
           "yaxis": {
            "backgroundcolor": "#E5ECF6",
            "gridcolor": "white",
            "gridwidth": 2,
            "linecolor": "white",
            "showbackground": true,
            "ticks": "",
            "zerolinecolor": "white"
           },
           "zaxis": {
            "backgroundcolor": "#E5ECF6",
            "gridcolor": "white",
            "gridwidth": 2,
            "linecolor": "white",
            "showbackground": true,
            "ticks": "",
            "zerolinecolor": "white"
           }
          },
          "shapedefaults": {
           "line": {
            "color": "#2a3f5f"
           }
          },
          "ternary": {
           "aaxis": {
            "gridcolor": "white",
            "linecolor": "white",
            "ticks": ""
           },
           "baxis": {
            "gridcolor": "white",
            "linecolor": "white",
            "ticks": ""
           },
           "bgcolor": "#E5ECF6",
           "caxis": {
            "gridcolor": "white",
            "linecolor": "white",
            "ticks": ""
           }
          },
          "title": {
           "x": 0.05
          },
          "xaxis": {
           "automargin": true,
           "gridcolor": "white",
           "linecolor": "white",
           "ticks": "",
           "title": {
            "standoff": 15
           },
           "zerolinecolor": "white",
           "zerolinewidth": 2
          },
          "yaxis": {
           "automargin": true,
           "gridcolor": "white",
           "linecolor": "white",
           "ticks": "",
           "title": {
            "standoff": 15
           },
           "zerolinecolor": "white",
           "zerolinewidth": 2
          }
         }
        },
        "title": {
         "text": "Probability of Ratings"
        },
        "xaxis": {
         "anchor": "y",
         "domain": [
          0,
          1
         ],
         "title": {
          "text": "Ratings"
         }
        },
        "yaxis": {
         "anchor": "x",
         "domain": [
          0,
          1
         ],
         "title": {
          "text": "Probability"
         }
        }
       }
      },
      "text/html": [
       "<div>                            <div id=\"ef6d7b32-264d-426b-83d3-9a194f40af67\" class=\"plotly-graph-div\" style=\"height:525px; width:100%;\"></div>            <script type=\"text/javascript\">                require([\"plotly\"], function(Plotly) {                    window.PLOTLYENV=window.PLOTLYENV || {};                                    if (document.getElementById(\"ef6d7b32-264d-426b-83d3-9a194f40af67\")) {                    Plotly.newPlot(                        \"ef6d7b32-264d-426b-83d3-9a194f40af67\",                        [{\"alignmentgroup\":\"True\",\"hovertemplate\":\"Rating=%{x}<br>Probability=%{y}<extra></extra>\",\"legendgroup\":\"\",\"marker\":{\"color\":\"#636efa\",\"pattern\":{\"shape\":\"\"}},\"name\":\"\",\"offsetgroup\":\"\",\"orientation\":\"v\",\"showlegend\":false,\"textposition\":\"auto\",\"x\":[5.6,2.2,5.0,6.2,6.5,7.5,5.3,7.8,5.7,7.2,4.5,3.2,7.3,7.6,5.2,5.5,5.9,4.7,7.1,5.4,6.3,6.1,6.4,3.6,8.0,3.7,2.7,2.4,6.6,6.0,5.1,5.8,4.4,3.5,3.9,6.8,4.0,4.6,4.1,4.2,4.9,6.7,4.8,3.1,7.4,7.0,2.5,3.0,3.4,1.5,3.3,6.9,7.7,2.9,8.2,2.8,2.3,4.3,2.1,1.8,8.3,2.0,3.8,1.9,1.7,1.4,2.6,8.8,7.9,1.2,8.1,8.4,1.1,1.6,9.7,8.5,1.3,9.2,9.1,8.7],\"xaxis\":\"x\",\"y\":[0.04,0.0,0.02,0.03,0.03,0.01,0.03,0.0,0.04,0.01,0.02,0.01,0.01,0.0,0.03,0.04,0.03,0.02,0.01,0.03,0.03,0.04,0.03,0.01,0.0,0.01,0.01,0.0,0.03,0.03,0.03,0.04,0.02,0.01,0.01,0.02,0.01,0.02,0.02,0.02,0.02,0.02,0.02,0.0,0.01,0.01,0.0,0.0,0.01,0.0,0.01,0.02,0.0,0.01,0.0,0.01,0.0,0.02,0.0,0.0,0.0,0.0,0.01,0.0,0.0,0.0,0.0,0.0,0.0,0.0,0.0,0.0,0.0,0.0,0.0,0.0,0.0,0.0,0.0,0.0],\"yaxis\":\"y\",\"type\":\"bar\"}],                        {\"template\":{\"data\":{\"histogram2dcontour\":[{\"type\":\"histogram2dcontour\",\"colorbar\":{\"outlinewidth\":0,\"ticks\":\"\"},\"colorscale\":[[0.0,\"#0d0887\"],[0.1111111111111111,\"#46039f\"],[0.2222222222222222,\"#7201a8\"],[0.3333333333333333,\"#9c179e\"],[0.4444444444444444,\"#bd3786\"],[0.5555555555555556,\"#d8576b\"],[0.6666666666666666,\"#ed7953\"],[0.7777777777777778,\"#fb9f3a\"],[0.8888888888888888,\"#fdca26\"],[1.0,\"#f0f921\"]]}],\"choropleth\":[{\"type\":\"choropleth\",\"colorbar\":{\"outlinewidth\":0,\"ticks\":\"\"}}],\"histogram2d\":[{\"type\":\"histogram2d\",\"colorbar\":{\"outlinewidth\":0,\"ticks\":\"\"},\"colorscale\":[[0.0,\"#0d0887\"],[0.1111111111111111,\"#46039f\"],[0.2222222222222222,\"#7201a8\"],[0.3333333333333333,\"#9c179e\"],[0.4444444444444444,\"#bd3786\"],[0.5555555555555556,\"#d8576b\"],[0.6666666666666666,\"#ed7953\"],[0.7777777777777778,\"#fb9f3a\"],[0.8888888888888888,\"#fdca26\"],[1.0,\"#f0f921\"]]}],\"heatmap\":[{\"type\":\"heatmap\",\"colorbar\":{\"outlinewidth\":0,\"ticks\":\"\"},\"colorscale\":[[0.0,\"#0d0887\"],[0.1111111111111111,\"#46039f\"],[0.2222222222222222,\"#7201a8\"],[0.3333333333333333,\"#9c179e\"],[0.4444444444444444,\"#bd3786\"],[0.5555555555555556,\"#d8576b\"],[0.6666666666666666,\"#ed7953\"],[0.7777777777777778,\"#fb9f3a\"],[0.8888888888888888,\"#fdca26\"],[1.0,\"#f0f921\"]]}],\"heatmapgl\":[{\"type\":\"heatmapgl\",\"colorbar\":{\"outlinewidth\":0,\"ticks\":\"\"},\"colorscale\":[[0.0,\"#0d0887\"],[0.1111111111111111,\"#46039f\"],[0.2222222222222222,\"#7201a8\"],[0.3333333333333333,\"#9c179e\"],[0.4444444444444444,\"#bd3786\"],[0.5555555555555556,\"#d8576b\"],[0.6666666666666666,\"#ed7953\"],[0.7777777777777778,\"#fb9f3a\"],[0.8888888888888888,\"#fdca26\"],[1.0,\"#f0f921\"]]}],\"contourcarpet\":[{\"type\":\"contourcarpet\",\"colorbar\":{\"outlinewidth\":0,\"ticks\":\"\"}}],\"contour\":[{\"type\":\"contour\",\"colorbar\":{\"outlinewidth\":0,\"ticks\":\"\"},\"colorscale\":[[0.0,\"#0d0887\"],[0.1111111111111111,\"#46039f\"],[0.2222222222222222,\"#7201a8\"],[0.3333333333333333,\"#9c179e\"],[0.4444444444444444,\"#bd3786\"],[0.5555555555555556,\"#d8576b\"],[0.6666666666666666,\"#ed7953\"],[0.7777777777777778,\"#fb9f3a\"],[0.8888888888888888,\"#fdca26\"],[1.0,\"#f0f921\"]]}],\"surface\":[{\"type\":\"surface\",\"colorbar\":{\"outlinewidth\":0,\"ticks\":\"\"},\"colorscale\":[[0.0,\"#0d0887\"],[0.1111111111111111,\"#46039f\"],[0.2222222222222222,\"#7201a8\"],[0.3333333333333333,\"#9c179e\"],[0.4444444444444444,\"#bd3786\"],[0.5555555555555556,\"#d8576b\"],[0.6666666666666666,\"#ed7953\"],[0.7777777777777778,\"#fb9f3a\"],[0.8888888888888888,\"#fdca26\"],[1.0,\"#f0f921\"]]}],\"mesh3d\":[{\"type\":\"mesh3d\",\"colorbar\":{\"outlinewidth\":0,\"ticks\":\"\"}}],\"scatter\":[{\"fillpattern\":{\"fillmode\":\"overlay\",\"size\":10,\"solidity\":0.2},\"type\":\"scatter\"}],\"parcoords\":[{\"type\":\"parcoords\",\"line\":{\"colorbar\":{\"outlinewidth\":0,\"ticks\":\"\"}}}],\"scatterpolargl\":[{\"type\":\"scatterpolargl\",\"marker\":{\"colorbar\":{\"outlinewidth\":0,\"ticks\":\"\"}}}],\"bar\":[{\"error_x\":{\"color\":\"#2a3f5f\"},\"error_y\":{\"color\":\"#2a3f5f\"},\"marker\":{\"line\":{\"color\":\"#E5ECF6\",\"width\":0.5},\"pattern\":{\"fillmode\":\"overlay\",\"size\":10,\"solidity\":0.2}},\"type\":\"bar\"}],\"scattergeo\":[{\"type\":\"scattergeo\",\"marker\":{\"colorbar\":{\"outlinewidth\":0,\"ticks\":\"\"}}}],\"scatterpolar\":[{\"type\":\"scatterpolar\",\"marker\":{\"colorbar\":{\"outlinewidth\":0,\"ticks\":\"\"}}}],\"histogram\":[{\"marker\":{\"pattern\":{\"fillmode\":\"overlay\",\"size\":10,\"solidity\":0.2}},\"type\":\"histogram\"}],\"scattergl\":[{\"type\":\"scattergl\",\"marker\":{\"colorbar\":{\"outlinewidth\":0,\"ticks\":\"\"}}}],\"scatter3d\":[{\"type\":\"scatter3d\",\"line\":{\"colorbar\":{\"outlinewidth\":0,\"ticks\":\"\"}},\"marker\":{\"colorbar\":{\"outlinewidth\":0,\"ticks\":\"\"}}}],\"scattermapbox\":[{\"type\":\"scattermapbox\",\"marker\":{\"colorbar\":{\"outlinewidth\":0,\"ticks\":\"\"}}}],\"scatterternary\":[{\"type\":\"scatterternary\",\"marker\":{\"colorbar\":{\"outlinewidth\":0,\"ticks\":\"\"}}}],\"scattercarpet\":[{\"type\":\"scattercarpet\",\"marker\":{\"colorbar\":{\"outlinewidth\":0,\"ticks\":\"\"}}}],\"carpet\":[{\"aaxis\":{\"endlinecolor\":\"#2a3f5f\",\"gridcolor\":\"white\",\"linecolor\":\"white\",\"minorgridcolor\":\"white\",\"startlinecolor\":\"#2a3f5f\"},\"baxis\":{\"endlinecolor\":\"#2a3f5f\",\"gridcolor\":\"white\",\"linecolor\":\"white\",\"minorgridcolor\":\"white\",\"startlinecolor\":\"#2a3f5f\"},\"type\":\"carpet\"}],\"table\":[{\"cells\":{\"fill\":{\"color\":\"#EBF0F8\"},\"line\":{\"color\":\"white\"}},\"header\":{\"fill\":{\"color\":\"#C8D4E3\"},\"line\":{\"color\":\"white\"}},\"type\":\"table\"}],\"barpolar\":[{\"marker\":{\"line\":{\"color\":\"#E5ECF6\",\"width\":0.5},\"pattern\":{\"fillmode\":\"overlay\",\"size\":10,\"solidity\":0.2}},\"type\":\"barpolar\"}],\"pie\":[{\"automargin\":true,\"type\":\"pie\"}]},\"layout\":{\"autotypenumbers\":\"strict\",\"colorway\":[\"#636efa\",\"#EF553B\",\"#00cc96\",\"#ab63fa\",\"#FFA15A\",\"#19d3f3\",\"#FF6692\",\"#B6E880\",\"#FF97FF\",\"#FECB52\"],\"font\":{\"color\":\"#2a3f5f\"},\"hovermode\":\"closest\",\"hoverlabel\":{\"align\":\"left\"},\"paper_bgcolor\":\"white\",\"plot_bgcolor\":\"#E5ECF6\",\"polar\":{\"bgcolor\":\"#E5ECF6\",\"angularaxis\":{\"gridcolor\":\"white\",\"linecolor\":\"white\",\"ticks\":\"\"},\"radialaxis\":{\"gridcolor\":\"white\",\"linecolor\":\"white\",\"ticks\":\"\"}},\"ternary\":{\"bgcolor\":\"#E5ECF6\",\"aaxis\":{\"gridcolor\":\"white\",\"linecolor\":\"white\",\"ticks\":\"\"},\"baxis\":{\"gridcolor\":\"white\",\"linecolor\":\"white\",\"ticks\":\"\"},\"caxis\":{\"gridcolor\":\"white\",\"linecolor\":\"white\",\"ticks\":\"\"}},\"coloraxis\":{\"colorbar\":{\"outlinewidth\":0,\"ticks\":\"\"}},\"colorscale\":{\"sequential\":[[0.0,\"#0d0887\"],[0.1111111111111111,\"#46039f\"],[0.2222222222222222,\"#7201a8\"],[0.3333333333333333,\"#9c179e\"],[0.4444444444444444,\"#bd3786\"],[0.5555555555555556,\"#d8576b\"],[0.6666666666666666,\"#ed7953\"],[0.7777777777777778,\"#fb9f3a\"],[0.8888888888888888,\"#fdca26\"],[1.0,\"#f0f921\"]],\"sequentialminus\":[[0.0,\"#0d0887\"],[0.1111111111111111,\"#46039f\"],[0.2222222222222222,\"#7201a8\"],[0.3333333333333333,\"#9c179e\"],[0.4444444444444444,\"#bd3786\"],[0.5555555555555556,\"#d8576b\"],[0.6666666666666666,\"#ed7953\"],[0.7777777777777778,\"#fb9f3a\"],[0.8888888888888888,\"#fdca26\"],[1.0,\"#f0f921\"]],\"diverging\":[[0,\"#8e0152\"],[0.1,\"#c51b7d\"],[0.2,\"#de77ae\"],[0.3,\"#f1b6da\"],[0.4,\"#fde0ef\"],[0.5,\"#f7f7f7\"],[0.6,\"#e6f5d0\"],[0.7,\"#b8e186\"],[0.8,\"#7fbc41\"],[0.9,\"#4d9221\"],[1,\"#276419\"]]},\"xaxis\":{\"gridcolor\":\"white\",\"linecolor\":\"white\",\"ticks\":\"\",\"title\":{\"standoff\":15},\"zerolinecolor\":\"white\",\"automargin\":true,\"zerolinewidth\":2},\"yaxis\":{\"gridcolor\":\"white\",\"linecolor\":\"white\",\"ticks\":\"\",\"title\":{\"standoff\":15},\"zerolinecolor\":\"white\",\"automargin\":true,\"zerolinewidth\":2},\"scene\":{\"xaxis\":{\"backgroundcolor\":\"#E5ECF6\",\"gridcolor\":\"white\",\"linecolor\":\"white\",\"showbackground\":true,\"ticks\":\"\",\"zerolinecolor\":\"white\",\"gridwidth\":2},\"yaxis\":{\"backgroundcolor\":\"#E5ECF6\",\"gridcolor\":\"white\",\"linecolor\":\"white\",\"showbackground\":true,\"ticks\":\"\",\"zerolinecolor\":\"white\",\"gridwidth\":2},\"zaxis\":{\"backgroundcolor\":\"#E5ECF6\",\"gridcolor\":\"white\",\"linecolor\":\"white\",\"showbackground\":true,\"ticks\":\"\",\"zerolinecolor\":\"white\",\"gridwidth\":2}},\"shapedefaults\":{\"line\":{\"color\":\"#2a3f5f\"}},\"annotationdefaults\":{\"arrowcolor\":\"#2a3f5f\",\"arrowhead\":0,\"arrowwidth\":1},\"geo\":{\"bgcolor\":\"white\",\"landcolor\":\"#E5ECF6\",\"subunitcolor\":\"white\",\"showland\":true,\"showlakes\":true,\"lakecolor\":\"white\"},\"title\":{\"x\":0.05},\"mapbox\":{\"style\":\"light\"}}},\"xaxis\":{\"anchor\":\"y\",\"domain\":[0.0,1.0],\"title\":{\"text\":\"Ratings\"}},\"yaxis\":{\"anchor\":\"x\",\"domain\":[0.0,1.0],\"title\":{\"text\":\"Probability\"}},\"legend\":{\"tracegroupgap\":0},\"title\":{\"text\":\"Probability of Ratings\"},\"barmode\":\"relative\"},                        {\"responsive\": true}                    ).then(function(){\n",
       "                            \n",
       "var gd = document.getElementById('ef6d7b32-264d-426b-83d3-9a194f40af67');\n",
       "var x = new MutationObserver(function (mutations, observer) {{\n",
       "        var display = window.getComputedStyle(gd).display;\n",
       "        if (!display || display === 'none') {{\n",
       "            console.log([gd, 'removed!']);\n",
       "            Plotly.purge(gd);\n",
       "            observer.disconnect();\n",
       "        }}\n",
       "}});\n",
       "\n",
       "// Listen for the removal of the full notebook cells\n",
       "var notebookContainer = gd.closest('#notebook-container');\n",
       "if (notebookContainer) {{\n",
       "    x.observe(notebookContainer, {childList: true});\n",
       "}}\n",
       "\n",
       "// Listen for the clearing of the current output cell\n",
       "var outputEl = gd.closest('.output');\n",
       "if (outputEl) {{\n",
       "    x.observe(outputEl, {childList: true});\n",
       "}}\n",
       "\n",
       "                        })                };                });            </script>        </div>"
      ]
     },
     "metadata": {},
     "output_type": "display_data"
    }
   ],
   "source": [
    "import plotly.express as px\n",
    "\n",
    "pmf_df = [{\"Rating\": outcome, \"Probability\": probability} for outcome, probability in pmf.items()]\n",
    "fig = px.bar(pmf_df, x=\"Rating\", y=\"Probability\", title=\"Probability of Ratings\")\n",
    "fig.update_xaxes(title=\"Ratings\")\n",
    "fig.update_yaxes(title=\"Probability\")\n",
    "fig.show()\n"
   ]
  },
  {
   "cell_type": "code",
   "execution_count": 49,
   "metadata": {
    "colab": {
     "base_uri": "https://localhost:8080/",
     "height": 671
    },
    "id": "sp1F7sBz69dQ",
    "outputId": "a67af0e5-0e15-44b5-f7ee-b6dcbd4623ad"
   },
   "outputs": [
    {
     "data": {
      "text/html": [
       "\n",
       "        <iframe\n",
       "            width=\"100%\"\n",
       "            height=\"650\"\n",
       "            src=\"http://127.0.0.1:8050/\"\n",
       "            frameborder=\"0\"\n",
       "            allowfullscreen\n",
       "            \n",
       "        ></iframe>\n",
       "        "
      ],
      "text/plain": [
       "<IPython.lib.display.IFrame at 0x1e3fc415b80>"
      ]
     },
     "metadata": {},
     "output_type": "display_data"
    }
   ],
   "source": [
    "from dash import Dash,html,dcc\n",
    "from dash.exceptions import PreventUpdate\n",
    "from dash.dependencies import Input,Output\n",
    "from collections import Counter as c\n",
    "app=Dash(__name__)\n",
    "app.layout = html.Div([\n",
    "    html.Div(\"SELECT GENRE\"),\n",
    "    dcc.Dropdown(\n",
    "        options=[genre for genre in df['Genre'].unique()],\n",
    "        id=\"dd\"\n",
    "    ),\n",
    "    dcc.Graph(id=\"fig\")\n",
    "])\n",
    "\n",
    "@app.callback(Output(\"fig\", \"figure\"), Input(\"dd\", \"value\"))\n",
    "def func(selected_genre):\n",
    "    if selected_genre is None:\n",
    "        raise PreventUpdate\n",
    "\n",
    "    df1 = df[df['Genre'] == selected_genre]\n",
    "    pairs = c(df1['Rating'])\n",
    "    pmf = {i: round(j / len(df1[\"Rating\"]), 2) for i, j in pairs.items()}  # Corrected syntax\n",
    "\n",
    "    pmf_df = [{\"Ratings\": outcome, \"Probability\": probability} for outcome, probability in pmf.items()]\n",
    "    return px.bar(pmf_df, x=\"Ratings\", y=\"Probability\", title=f\"Probability of Ratings for {selected_genre}\")  # Corrected title\n",
    "\n",
    "if __name__ == '__main__':\n",
    "    app.run_server(debug=True,mode=\"inline\")"
   ]
  },
  {
   "cell_type": "markdown",
   "metadata": {},
   "source": [
    "BERNOUILLE DISTRIBUTION"
   ]
  },
  {
   "cell_type": "markdown",
   "metadata": {},
   "source": [
    "The Bernoulli distribution is suitable for situations where you're dealing with a single trial or experiment that has two possible outcomes (success/failure)\n",
    "to analyze whether a movie's rating is above (7) a certain threshold (success) or not (failure)."
   ]
  },
  {
   "cell_type": "code",
   "execution_count": 42,
   "metadata": {},
   "outputs": [],
   "source": [
    "import numpy as np\n",
    "df[\"outcome\"]=np.where(df[\"Rating\"]>=7,\"success\",\"failure\")"
   ]
  },
  {
   "cell_type": "code",
   "execution_count": 46,
   "metadata": {},
   "outputs": [],
   "source": [
    "df_outcome=df[\"outcome\"].value_counts()"
   ]
  },
  {
   "cell_type": "code",
   "execution_count": 49,
   "metadata": {},
   "outputs": [
    {
     "data": {
      "text/plain": [
       "failure    4862\n",
       "success     413\n",
       "Name: outcome, dtype: int64"
      ]
     },
     "execution_count": 49,
     "metadata": {},
     "output_type": "execute_result"
    }
   ],
   "source": [
    "df_outcome"
   ]
  },
  {
   "cell_type": "code",
   "execution_count": 51,
   "metadata": {},
   "outputs": [
    {
     "data": {
      "text/plain": [
       "'probability of having more than 7 : 0.078'"
      ]
     },
     "execution_count": 51,
     "metadata": {},
     "output_type": "execute_result"
    }
   ],
   "source": [
    "f\"probability of having more than 7 : {round(df_outcome[1]/len(df),3)}\""
   ]
  },
  {
   "cell_type": "markdown",
   "metadata": {},
   "source": [
    "Conclusion:\n",
    "    7% chance of randomly selecting a movie with a rating above 7 from this dataset. This might suggest that, in this specific dataset, highly-rated movies are relatively uncommon."
   ]
  },
  {
   "cell_type": "code",
   "execution_count": 65,
   "metadata": {},
   "outputs": [
    {
     "name": "stdout",
     "output_type": "stream",
     "text": [
      "Probability of a movie having a rating above 7: 0.07\n"
     ]
    }
   ],
   "source": [
    "#using scipy library\n",
    "from scipy.stats import bernoulli\n",
    "threshold = 7\n",
    "prob_success = sum(df['Rating'] > threshold) / len(df)\n",
    "bernoulli_dist = bernoulli(prob_success)\n",
    "prob_high_rating = bernoulli_dist.pmf(1)\n",
    "\n",
    "print(f\"Probability of a movie having a rating above {threshold}: {prob_high_rating:.2f}\")"
   ]
  },
  {
   "cell_type": "raw",
   "metadata": {},
   "source": [
    "BINOMIAL DISTRIBUTION"
   ]
  },
  {
   "cell_type": "markdown",
   "metadata": {},
   "source": [
    "The binomial distribution is a statistical distribution that describes the number of successes in a fixed number of independent trials or experiments, where each trial has only two possible outcomes: success or failure. "
   ]
  },
  {
   "cell_type": "code",
   "execution_count": 50,
   "metadata": {},
   "outputs": [
    {
     "name": "stdout",
     "output_type": "stream",
     "text": [
      "Probability of selecting at least 5 movies with popularity above 80: 0.3704\n"
     ]
    }
   ],
   "source": [
    "# Probability of success (movie popularity above 80)\n",
    "from scipy.stats import binom\n",
    "popularity_scores=df[\"Popularity\"]\n",
    "p_success = sum(score > 80 for score in popularity_scores) / len(popularity_scores)\n",
    "\n",
    "# Number of trials (selecting 20 movies)\n",
    "n_trials = 20\n",
    "\n",
    "# Number of desired successes (selecting at least 5 movies with popularity above 80)\n",
    "k_success = 5  # From 5 to 20 successes\n",
    "prob_at_least_5_successes = 1 - binom.cdf(k_success - 1, n_trials, p_success)\n",
    "\n",
    "print(f\"Probability of selecting at least 5 movies with popularity above 80: {prob_at_least_5_successes:.4f}\")\n",
    "\n"
   ]
  },
  {
   "cell_type": "raw",
   "metadata": {},
   "source": [
    "probability of selecting 100 movies having rating more than 5"
   ]
  },
  {
   "cell_type": "code",
   "execution_count": 70,
   "metadata": {},
   "outputs": [
    {
     "data": {
      "text/plain": [
       "'probability of selecting 100 movies having rating more than 5 is 0.4048'"
      ]
     },
     "execution_count": 70,
     "metadata": {},
     "output_type": "execute_result"
    }
   ],
   "source": [
    "prob=sum(df[\"Rating\"]>5)/len(df)\n",
    "success=100\n",
    "n_trails=150\n",
    "probability=1-binom.cdf(success-1,n_trails,prob)\n",
    "f\"probability of selecting 100 movies having rating more than 5 is {probability:.4f}\""
   ]
  },
  {
   "cell_type": "code",
   "execution_count": null,
   "metadata": {},
   "outputs": [],
   "source": []
  }
 ],
 "metadata": {
  "colab": {
   "provenance": []
  },
  "kernelspec": {
   "display_name": "Python 3 (ipykernel)",
   "language": "python",
   "name": "python3"
  },
  "language_info": {
   "codemirror_mode": {
    "name": "ipython",
    "version": 3
   },
   "file_extension": ".py",
   "mimetype": "text/x-python",
   "name": "python",
   "nbconvert_exporter": "python",
   "pygments_lexer": "ipython3",
   "version": "3.9.13"
  }
 },
 "nbformat": 4,
 "nbformat_minor": 1
}
