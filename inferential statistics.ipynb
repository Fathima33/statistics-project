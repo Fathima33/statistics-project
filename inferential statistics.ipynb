{
 "cells": [
  {
   "cell_type": "code",
   "execution_count": 1,
   "id": "801f612d",
   "metadata": {},
   "outputs": [],
   "source": [
    "import numpy as np\n",
    "import pandas as pd\n",
    "import matplotlib.pyplot as plt\n",
    "import seaborn as sns\n",
    "import plotly.express as px\n",
    "import scipy.stats as ss"
   ]
  },
  {
   "cell_type": "markdown",
   "id": "bfcf9eb2",
   "metadata": {},
   "source": [
    "RIGHT TAILED TEST"
   ]
  },
  {
   "cell_type": "markdown",
   "id": "0c6da667",
   "metadata": {},
   "source": [
    "A new weight loss program advertises an average weight loss of 8 pounds after one month. A random sample of 30 participants shows an average weight loss of 9.5 pounds with a standard deviation of 2.2 pounds. Can we conclude that the program leads to a significant increase in weight loss compared to the advertised average?"
   ]
  },
  {
   "cell_type": "code",
   "execution_count": 11,
   "id": "9d58929c",
   "metadata": {},
   "outputs": [],
   "source": [
    "tcritic=ss.t.ppf(q=0.95,df=29)"
   ]
  },
  {
   "cell_type": "code",
   "execution_count": 12,
   "id": "ca76773e",
   "metadata": {},
   "outputs": [
    {
     "data": {
      "text/plain": [
       "1.7"
      ]
     },
     "execution_count": 12,
     "metadata": {},
     "output_type": "execute_result"
    }
   ],
   "source": [
    "round(tcritic,2)"
   ]
  },
  {
   "cell_type": "code",
   "execution_count": 14,
   "id": "2df65c3e",
   "metadata": {},
   "outputs": [
    {
     "data": {
      "text/plain": [
       "3.73"
      ]
     },
     "execution_count": 14,
     "metadata": {},
     "output_type": "execute_result"
    }
   ],
   "source": [
    "tstat=(9.5-8)/(2.2/np.sqrt(30))\n",
    "round(tstat,2)"
   ]
  },
  {
   "cell_type": "raw",
   "id": "bd3be7f7",
   "metadata": {},
   "source": [
    "tstat>tcritic\n",
    "reject null hypothesis\n",
    "we conclude that the program leads to a significant increase in weight loss compared to the advertised average"
   ]
  },
  {
   "cell_type": "markdown",
   "id": "7b33d8e2",
   "metadata": {},
   "source": [
    "LEFT TAILED TEST"
   ]
  },
  {
   "cell_type": "markdown",
   "id": "112ba79e",
   "metadata": {},
   "source": [
    "A restaurant claims that their new cooking technique reduces calorie content in dishes to an average of 300 calories. A sample of 40 dishes shows an average of 280 calories with a standard deviation of 20 calories. Is there evidence to suggest that the dishes contain fewer calories than claimed?"
   ]
  },
  {
   "cell_type": "code",
   "execution_count": 2,
   "id": "e049a292",
   "metadata": {},
   "outputs": [],
   "source": [
    "tcritic=ss.t.ppf(q=0.05,df=39)"
   ]
  },
  {
   "cell_type": "code",
   "execution_count": 5,
   "id": "0c3621c3",
   "metadata": {},
   "outputs": [
    {
     "data": {
      "text/plain": [
       "-1.68"
      ]
     },
     "execution_count": 5,
     "metadata": {},
     "output_type": "execute_result"
    }
   ],
   "source": [
    "round(tcritic,2)"
   ]
  },
  {
   "cell_type": "code",
   "execution_count": 8,
   "id": "0761448d",
   "metadata": {},
   "outputs": [],
   "source": [
    "df=pd.read_csv(\"M2_T2_V1Movies.csv\")"
   ]
  },
  {
   "cell_type": "code",
   "execution_count": 6,
   "id": "f610ed1c",
   "metadata": {},
   "outputs": [],
   "source": [
    "tstat=(280-300)/(20/np.sqrt(40))"
   ]
  },
  {
   "cell_type": "code",
   "execution_count": 7,
   "id": "84d25118",
   "metadata": {},
   "outputs": [
    {
     "data": {
      "text/plain": [
       "-6.32"
      ]
     },
     "execution_count": 7,
     "metadata": {},
     "output_type": "execute_result"
    }
   ],
   "source": [
    "round(tstat,2)"
   ]
  },
  {
   "cell_type": "raw",
   "id": "9d581255",
   "metadata": {},
   "source": [
    "tstat<tcritic\n",
    "we can reject null hypothesis\n",
    "There is enough evidence to suggest that the dishes contain fewer calories than claimed"
   ]
  },
  {
   "cell_type": "markdown",
   "id": "f441b9bd",
   "metadata": {},
   "source": [
    "TWO TAILED TEST"
   ]
  },
  {
   "cell_type": "markdown",
   "id": "7e8e1016",
   "metadata": {},
   "source": [
    "A bakery advertises that their cakes have an average sugar content of 20 grams. A sample of 30 cakes is tested, revealing an average sugar content of 22 grams with a standard deviation of 3 grams. Is there evidence to suggest that the cakes' actual sugar content is not equal to the advertised 20 grams?"
   ]
  },
  {
   "cell_type": "code",
   "execution_count": 8,
   "id": "fa964442",
   "metadata": {},
   "outputs": [
    {
     "data": {
      "text/plain": [
       "(-2.0452296421327034, 2.045229642132703)"
      ]
     },
     "execution_count": 8,
     "metadata": {},
     "output_type": "execute_result"
    }
   ],
   "source": [
    "tcrit1=ss.t.ppf(q=0.05/2,df=29)\n",
    "tcrit2=ss.t.ppf(q=1-0.05/2,df=29)\n",
    "(tcrit1,tcrit2)"
   ]
  },
  {
   "cell_type": "code",
   "execution_count": 9,
   "id": "866e5954",
   "metadata": {},
   "outputs": [],
   "source": [
    "tstat=(22-20)/(3/np.sqrt(30))"
   ]
  },
  {
   "cell_type": "code",
   "execution_count": 11,
   "id": "f49a09e4",
   "metadata": {},
   "outputs": [
    {
     "data": {
      "text/plain": [
       "3.65"
      ]
     },
     "execution_count": 11,
     "metadata": {},
     "output_type": "execute_result"
    }
   ],
   "source": [
    "round(tstat,2)"
   ]
  },
  {
   "cell_type": "raw",
   "id": "9b0dae89",
   "metadata": {},
   "source": [
    "tstat>tcrit2 \n",
    "we reject null hypothesis\n",
    "there is evidence to suggest that the cakes' actual sugar content is not equal to the advertised 20 grams."
   ]
  },
  {
   "cell_type": "markdown",
   "id": "e5d8b4d2",
   "metadata": {},
   "source": [
    "UNPAIRED SAMPLE TEST"
   ]
  },
  {
   "cell_type": "markdown",
   "id": "262870cc",
   "metadata": {},
   "source": [
    "Is there a significant difference in the average marks of a particular subject  between two different classes, considering that their variances are not equal?"
   ]
  },
  {
   "cell_type": "code",
   "execution_count": 15,
   "id": "c74667e0",
   "metadata": {},
   "outputs": [
    {
     "data": {
      "text/html": [
       "<div>\n",
       "<style scoped>\n",
       "    .dataframe tbody tr th:only-of-type {\n",
       "        vertical-align: middle;\n",
       "    }\n",
       "\n",
       "    .dataframe tbody tr th {\n",
       "        vertical-align: top;\n",
       "    }\n",
       "\n",
       "    .dataframe thead th {\n",
       "        text-align: right;\n",
       "    }\n",
       "</style>\n",
       "<table border=\"1\" class=\"dataframe\">\n",
       "  <thead>\n",
       "    <tr style=\"text-align: right;\">\n",
       "      <th></th>\n",
       "      <th>class a</th>\n",
       "      <th>class b</th>\n",
       "    </tr>\n",
       "    <tr>\n",
       "      <th>rollno</th>\n",
       "      <th></th>\n",
       "      <th></th>\n",
       "    </tr>\n",
       "  </thead>\n",
       "  <tbody>\n",
       "    <tr>\n",
       "      <th>1</th>\n",
       "      <td>89</td>\n",
       "      <td>89</td>\n",
       "    </tr>\n",
       "    <tr>\n",
       "      <th>2</th>\n",
       "      <td>29</td>\n",
       "      <td>78</td>\n",
       "    </tr>\n",
       "    <tr>\n",
       "      <th>3</th>\n",
       "      <td>44</td>\n",
       "      <td>67</td>\n",
       "    </tr>\n",
       "    <tr>\n",
       "      <th>4</th>\n",
       "      <td>32</td>\n",
       "      <td>80</td>\n",
       "    </tr>\n",
       "    <tr>\n",
       "      <th>5</th>\n",
       "      <td>23</td>\n",
       "      <td>90</td>\n",
       "    </tr>\n",
       "  </tbody>\n",
       "</table>\n",
       "</div>"
      ],
      "text/plain": [
       "        class a  class b\n",
       "rollno                  \n",
       "1            89       89\n",
       "2            29       78\n",
       "3            44       67\n",
       "4            32       80\n",
       "5            23       90"
      ]
     },
     "execution_count": 15,
     "metadata": {},
     "output_type": "execute_result"
    }
   ],
   "source": [
    "rollno=[1,2,3,4,5,6,7,8,9,10]\n",
    "class_a=[89,29,44,32,23,44,33,88,66,55]\n",
    "class_b=[89,78,67,80,90,77,65,55,78,58]\n",
    "data={\"rollno\":rollno,\"class a\":class_a,\"class b\":class_b}\n",
    "df=pd.DataFrame(data)\n",
    "df.set_index('rollno', inplace=True)\n",
    "df.head(5)\n"
   ]
  },
  {
   "cell_type": "code",
   "execution_count": 18,
   "id": "f78ad082",
   "metadata": {},
   "outputs": [
    {
     "data": {
      "text/plain": [
       "<AxesSubplot:xlabel='class a', ylabel='Density'>"
      ]
     },
     "execution_count": 18,
     "metadata": {},
     "output_type": "execute_result"
    },
    {
     "data": {
      "image/png": "[encoded data removed]",
      "text/plain": [
       "<Figure size 640x480 with 1 Axes>"
      ]
     },
     "metadata": {},
     "output_type": "display_data"
    }
   ],
   "source": [
    "sns.kdeplot(df[\"class a\"])\n",
    "sns.kdeplot(df[\"class b\"])"
   ]
  },
  {
   "cell_type": "code",
   "execution_count": 19,
   "id": "2eab61ef",
   "metadata": {},
   "outputs": [
    {
     "data": {
      "text/plain": [
       "Ttest_indResult(statistic=-2.7739885810777563, pvalue=0.012514445839302153)"
      ]
     },
     "execution_count": 19,
     "metadata": {},
     "output_type": "execute_result"
    }
   ],
   "source": [
    "from scipy.stats import ttest_ind as ti\n",
    "ti(a=df[\"class a\"],b=df['class b'])"
   ]
  },
  {
   "cell_type": "raw",
   "id": "f4b66c7c",
   "metadata": {},
   "source": [
    "p value< 0.05 \n",
    "reject null hypothesis\n",
    "there is significant difference between the marks of the two class groups"
   ]
  },
  {
   "cell_type": "markdown",
   "id": "c1448f3b",
   "metadata": {},
   "source": [
    "PAIRED SAMPLE TEST"
   ]
  },
  {
   "cell_type": "markdown",
   "id": "a3604892",
   "metadata": {},
   "source": [
    "Is there a significant improvement in students' test scores after they undergo a tutoring program?"
   ]
  },
  {
   "cell_type": "code",
   "execution_count": 7,
   "id": "b103a185",
   "metadata": {},
   "outputs": [],
   "source": [
    "from scipy.stats import ttest_1samp"
   ]
  },
  {
   "cell_type": "code",
   "execution_count": 4,
   "id": "07f1e122",
   "metadata": {},
   "outputs": [
    {
     "data": {
      "text/html": [
       "<div>\n",
       "<style scoped>\n",
       "    .dataframe tbody tr th:only-of-type {\n",
       "        vertical-align: middle;\n",
       "    }\n",
       "\n",
       "    .dataframe tbody tr th {\n",
       "        vertical-align: top;\n",
       "    }\n",
       "\n",
       "    .dataframe thead th {\n",
       "        text-align: right;\n",
       "    }\n",
       "</style>\n",
       "<table border=\"1\" class=\"dataframe\">\n",
       "  <thead>\n",
       "    <tr style=\"text-align: right;\">\n",
       "      <th></th>\n",
       "      <th>before</th>\n",
       "      <th>after</th>\n",
       "    </tr>\n",
       "    <tr>\n",
       "      <th>rollno</th>\n",
       "      <th></th>\n",
       "      <th></th>\n",
       "    </tr>\n",
       "  </thead>\n",
       "  <tbody>\n",
       "    <tr>\n",
       "      <th>1</th>\n",
       "      <td>89</td>\n",
       "      <td>89</td>\n",
       "    </tr>\n",
       "    <tr>\n",
       "      <th>2</th>\n",
       "      <td>29</td>\n",
       "      <td>78</td>\n",
       "    </tr>\n",
       "    <tr>\n",
       "      <th>3</th>\n",
       "      <td>44</td>\n",
       "      <td>67</td>\n",
       "    </tr>\n",
       "    <tr>\n",
       "      <th>4</th>\n",
       "      <td>32</td>\n",
       "      <td>80</td>\n",
       "    </tr>\n",
       "    <tr>\n",
       "      <th>5</th>\n",
       "      <td>23</td>\n",
       "      <td>90</td>\n",
       "    </tr>\n",
       "  </tbody>\n",
       "</table>\n",
       "</div>"
      ],
      "text/plain": [
       "        before  after\n",
       "rollno               \n",
       "1           89     89\n",
       "2           29     78\n",
       "3           44     67\n",
       "4           32     80\n",
       "5           23     90"
      ]
     },
     "execution_count": 4,
     "metadata": {},
     "output_type": "execute_result"
    }
   ],
   "source": [
    "rollno=[1,2,3,4,5,6,7,8,9,10]\n",
    "before=[89,29,44,32,23,44,33,88,66,55]\n",
    "after=[89,78,67,80,90,77,65,55,78,58]\n",
    "data={\"rollno\":rollno,\"before\":before,\"after\":after}\n",
    "df=pd.DataFrame(data)\n",
    "df.set_index('rollno', inplace=True)\n",
    "df.head(5)\n"
   ]
  },
  {
   "cell_type": "code",
   "execution_count": null,
   "id": "6621a3f2",
   "metadata": {},
   "outputs": [],
   "source": [
    "df[\"difference\"]=df[\"after\"]-df[\"before\"]"
   ]
  },
  {
   "cell_type": "code",
   "execution_count": 11,
   "id": "1136b469",
   "metadata": {},
   "outputs": [
    {
     "data": {
      "text/html": [
       "<div>\n",
       "<style scoped>\n",
       "    .dataframe tbody tr th:only-of-type {\n",
       "        vertical-align: middle;\n",
       "    }\n",
       "\n",
       "    .dataframe tbody tr th {\n",
       "        vertical-align: top;\n",
       "    }\n",
       "\n",
       "    .dataframe thead th {\n",
       "        text-align: right;\n",
       "    }\n",
       "</style>\n",
       "<table border=\"1\" class=\"dataframe\">\n",
       "  <thead>\n",
       "    <tr style=\"text-align: right;\">\n",
       "      <th></th>\n",
       "      <th>before</th>\n",
       "      <th>after</th>\n",
       "      <th>difference</th>\n",
       "    </tr>\n",
       "    <tr>\n",
       "      <th>rollno</th>\n",
       "      <th></th>\n",
       "      <th></th>\n",
       "      <th></th>\n",
       "    </tr>\n",
       "  </thead>\n",
       "  <tbody>\n",
       "    <tr>\n",
       "      <th>1</th>\n",
       "      <td>89</td>\n",
       "      <td>89</td>\n",
       "      <td>0</td>\n",
       "    </tr>\n",
       "    <tr>\n",
       "      <th>2</th>\n",
       "      <td>29</td>\n",
       "      <td>78</td>\n",
       "      <td>49</td>\n",
       "    </tr>\n",
       "    <tr>\n",
       "      <th>3</th>\n",
       "      <td>44</td>\n",
       "      <td>67</td>\n",
       "      <td>23</td>\n",
       "    </tr>\n",
       "    <tr>\n",
       "      <th>4</th>\n",
       "      <td>32</td>\n",
       "      <td>80</td>\n",
       "      <td>48</td>\n",
       "    </tr>\n",
       "    <tr>\n",
       "      <th>5</th>\n",
       "      <td>23</td>\n",
       "      <td>90</td>\n",
       "      <td>67</td>\n",
       "    </tr>\n",
       "  </tbody>\n",
       "</table>\n",
       "</div>"
      ],
      "text/plain": [
       "        before  after  difference\n",
       "rollno                           \n",
       "1           89     89           0\n",
       "2           29     78          49\n",
       "3           44     67          23\n",
       "4           32     80          48\n",
       "5           23     90          67"
      ]
     },
     "execution_count": 11,
     "metadata": {},
     "output_type": "execute_result"
    }
   ],
   "source": [
    "df.head(5)"
   ]
  },
  {
   "cell_type": "code",
   "execution_count": 10,
   "id": "a717e814",
   "metadata": {},
   "outputs": [
    {
     "data": {
      "text/plain": [
       "Ttest_1sampResult(statistic=1.457977073986065, pvalue=0.17884048344237602)"
      ]
     },
     "execution_count": 10,
     "metadata": {},
     "output_type": "execute_result"
    }
   ],
   "source": [
    "ttest_1samp(df[\"difference\"],10)"
   ]
  },
  {
   "cell_type": "raw",
   "id": "7caf279a",
   "metadata": {},
   "source": [
    "pvalue lesser than alpha (significance value)  \n",
    "reject null hyothesis\n",
    "there is significant difference between the marks "
   ]
  },
  {
   "cell_type": "markdown",
   "id": "06fdc18c",
   "metadata": {},
   "source": [
    "TEST OF INDEPENDENCE:"
   ]
  },
  {
   "cell_type": "markdown",
   "id": "dd4c517b",
   "metadata": {},
   "source": [
    "null hypothesis=no association\n",
    "alternate hypothesis=association"
   ]
  },
  {
   "cell_type": "code",
   "execution_count": 15,
   "id": "9f0c20a7",
   "metadata": {},
   "outputs": [],
   "source": [
    "df=pd.read_csv(\"M5_T3_V2_TitanicSurvival.csv\")"
   ]
  },
  {
   "cell_type": "code",
   "execution_count": 16,
   "id": "89a961e7",
   "metadata": {},
   "outputs": [
    {
     "data": {
      "text/html": [
       "<div>\n",
       "<style scoped>\n",
       "    .dataframe tbody tr th:only-of-type {\n",
       "        vertical-align: middle;\n",
       "    }\n",
       "\n",
       "    .dataframe tbody tr th {\n",
       "        vertical-align: top;\n",
       "    }\n",
       "\n",
       "    .dataframe thead th {\n",
       "        text-align: right;\n",
       "    }\n",
       "</style>\n",
       "<table border=\"1\" class=\"dataframe\">\n",
       "  <thead>\n",
       "    <tr style=\"text-align: right;\">\n",
       "      <th></th>\n",
       "      <th>Name</th>\n",
       "      <th>survived</th>\n",
       "      <th>gender</th>\n",
       "      <th>passengerClass</th>\n",
       "    </tr>\n",
       "  </thead>\n",
       "  <tbody>\n",
       "    <tr>\n",
       "      <th>1118</th>\n",
       "      <td>Peltomaki, Mr. Nikolai Johannes</td>\n",
       "      <td>no</td>\n",
       "      <td>male</td>\n",
       "      <td>3rd</td>\n",
       "    </tr>\n",
       "    <tr>\n",
       "      <th>150</th>\n",
       "      <td>Harrison, Mr. William</td>\n",
       "      <td>no</td>\n",
       "      <td>male</td>\n",
       "      <td>1st</td>\n",
       "    </tr>\n",
       "    <tr>\n",
       "      <th>921</th>\n",
       "      <td>Keefe, Mr. Arthur</td>\n",
       "      <td>no</td>\n",
       "      <td>male</td>\n",
       "      <td>3rd</td>\n",
       "    </tr>\n",
       "    <tr>\n",
       "      <th>830</th>\n",
       "      <td>Goodwin, Mr. Charles Edward</td>\n",
       "      <td>no</td>\n",
       "      <td>male</td>\n",
       "      <td>3rd</td>\n",
       "    </tr>\n",
       "    <tr>\n",
       "      <th>956</th>\n",
       "      <td>Lefebre, Miss. Jeannie</td>\n",
       "      <td>no</td>\n",
       "      <td>female</td>\n",
       "      <td>3rd</td>\n",
       "    </tr>\n",
       "  </tbody>\n",
       "</table>\n",
       "</div>"
      ],
      "text/plain": [
       "                                 Name survived  gender passengerClass\n",
       "1118  Peltomaki, Mr. Nikolai Johannes       no    male            3rd\n",
       "150             Harrison, Mr. William       no    male            1st\n",
       "921                 Keefe, Mr. Arthur       no    male            3rd\n",
       "830       Goodwin, Mr. Charles Edward       no    male            3rd\n",
       "956            Lefebre, Miss. Jeannie       no  female            3rd"
      ]
     },
     "execution_count": 16,
     "metadata": {},
     "output_type": "execute_result"
    }
   ],
   "source": [
    "df.sample(5)"
   ]
  },
  {
   "cell_type": "code",
   "execution_count": 17,
   "id": "fd1f559c",
   "metadata": {},
   "outputs": [],
   "source": [
    "dframe=pd.pivot_table/\n",
    "(data=df,index=\"passengerClass\",columns=\"survived\",aggfunc=\"count\",values=\"Name\")"
   ]
  },
  {
   "cell_type": "code",
   "execution_count": 18,
   "id": "1710a449",
   "metadata": {},
   "outputs": [
    {
     "data": {
      "text/html": [
       "<div>\n",
       "<style scoped>\n",
       "    .dataframe tbody tr th:only-of-type {\n",
       "        vertical-align: middle;\n",
       "    }\n",
       "\n",
       "    .dataframe tbody tr th {\n",
       "        vertical-align: top;\n",
       "    }\n",
       "\n",
       "    .dataframe thead th {\n",
       "        text-align: right;\n",
       "    }\n",
       "</style>\n",
       "<table border=\"1\" class=\"dataframe\">\n",
       "  <thead>\n",
       "    <tr style=\"text-align: right;\">\n",
       "      <th>survived</th>\n",
       "      <th>no</th>\n",
       "      <th>yes</th>\n",
       "    </tr>\n",
       "    <tr>\n",
       "      <th>passengerClass</th>\n",
       "      <th></th>\n",
       "      <th></th>\n",
       "    </tr>\n",
       "  </thead>\n",
       "  <tbody>\n",
       "    <tr>\n",
       "      <th>1st</th>\n",
       "      <td>123</td>\n",
       "      <td>200</td>\n",
       "    </tr>\n",
       "    <tr>\n",
       "      <th>2nd</th>\n",
       "      <td>158</td>\n",
       "      <td>119</td>\n",
       "    </tr>\n",
       "    <tr>\n",
       "      <th>3rd</th>\n",
       "      <td>528</td>\n",
       "      <td>181</td>\n",
       "    </tr>\n",
       "  </tbody>\n",
       "</table>\n",
       "</div>"
      ],
      "text/plain": [
       "survived         no  yes\n",
       "passengerClass          \n",
       "1st             123  200\n",
       "2nd             158  119\n",
       "3rd             528  181"
      ]
     },
     "execution_count": 18,
     "metadata": {},
     "output_type": "execute_result"
    }
   ],
   "source": [
    "dframe"
   ]
  },
  {
   "cell_type": "code",
   "execution_count": 21,
   "id": "f4409878",
   "metadata": {},
   "outputs": [],
   "source": [
    "from scipy.stats import chi2_contingency as chi"
   ]
  },
  {
   "cell_type": "code",
   "execution_count": 22,
   "id": "e4563645",
   "metadata": {},
   "outputs": [
    {
     "data": {
      "text/plain": [
       "(127.85915643930326,\n",
       " 1.7208259588256175e-28,\n",
       " 2,\n",
       " array([[199.62337662, 123.37662338],\n",
       "        [171.19404125, 105.80595875],\n",
       "        [438.18258212, 270.81741788]]))"
      ]
     },
     "execution_count": 22,
     "metadata": {},
     "output_type": "execute_result"
    }
   ],
   "source": [
    "chi(dframe)"
   ]
  },
  {
   "cell_type": "markdown",
   "id": "9470dea4",
   "metadata": {},
   "source": [
    "pvalue < alpha\n",
    "reject null hypothesis\n",
    "there is association between the survived and passenger class column"
   ]
  },
  {
   "cell_type": "markdown",
   "id": "af119997",
   "metadata": {},
   "source": [
    "ANALYSIS OF VARIANCE"
   ]
  },
  {
   "cell_type": "markdown",
   "id": "72d66aa7",
   "metadata": {},
   "source": [
    "ONE WAY ANOVA"
   ]
  },
  {
   "cell_type": "code",
   "execution_count": 24,
   "id": "799a149c",
   "metadata": {},
   "outputs": [],
   "source": [
    "df=pd.DataFrame(pd.read_csv(\"M5_T2_V1_Diet.csv\"))"
   ]
  },
  {
   "cell_type": "code",
   "execution_count": 26,
   "id": "c39daf36",
   "metadata": {},
   "outputs": [
    {
     "data": {
      "text/html": [
       "<div>\n",
       "<style scoped>\n",
       "    .dataframe tbody tr th:only-of-type {\n",
       "        vertical-align: middle;\n",
       "    }\n",
       "\n",
       "    .dataframe tbody tr th {\n",
       "        vertical-align: top;\n",
       "    }\n",
       "\n",
       "    .dataframe thead th {\n",
       "        text-align: right;\n",
       "    }\n",
       "</style>\n",
       "<table border=\"1\" class=\"dataframe\">\n",
       "  <thead>\n",
       "    <tr style=\"text-align: right;\">\n",
       "      <th></th>\n",
       "      <th>gender</th>\n",
       "      <th>Age</th>\n",
       "      <th>Height</th>\n",
       "      <th>preweight</th>\n",
       "      <th>Diet</th>\n",
       "      <th>weight6weeks</th>\n",
       "    </tr>\n",
       "  </thead>\n",
       "  <tbody>\n",
       "    <tr>\n",
       "      <th>65</th>\n",
       "      <td>Male</td>\n",
       "      <td>47</td>\n",
       "      <td>179</td>\n",
       "      <td>73</td>\n",
       "      <td>3</td>\n",
       "      <td>72.1</td>\n",
       "    </tr>\n",
       "    <tr>\n",
       "      <th>40</th>\n",
       "      <td>Female</td>\n",
       "      <td>56</td>\n",
       "      <td>171</td>\n",
       "      <td>73</td>\n",
       "      <td>3</td>\n",
       "      <td>68.9</td>\n",
       "    </tr>\n",
       "    <tr>\n",
       "      <th>51</th>\n",
       "      <td>Male</td>\n",
       "      <td>39</td>\n",
       "      <td>166</td>\n",
       "      <td>87</td>\n",
       "      <td>1</td>\n",
       "      <td>81.9</td>\n",
       "    </tr>\n",
       "    <tr>\n",
       "      <th>57</th>\n",
       "      <td>Male</td>\n",
       "      <td>45</td>\n",
       "      <td>160</td>\n",
       "      <td>78</td>\n",
       "      <td>2</td>\n",
       "      <td>72.7</td>\n",
       "    </tr>\n",
       "    <tr>\n",
       "      <th>46</th>\n",
       "      <td>Male</td>\n",
       "      <td>50</td>\n",
       "      <td>160</td>\n",
       "      <td>78</td>\n",
       "      <td>1</td>\n",
       "      <td>73.9</td>\n",
       "    </tr>\n",
       "  </tbody>\n",
       "</table>\n",
       "</div>"
      ],
      "text/plain": [
       "    gender  Age  Height  preweight  Diet  weight6weeks\n",
       "65    Male   47     179         73     3          72.1\n",
       "40  Female   56     171         73     3          68.9\n",
       "51    Male   39     166         87     1          81.9\n",
       "57    Male   45     160         78     2          72.7\n",
       "46    Male   50     160         78     1          73.9"
      ]
     },
     "execution_count": 26,
     "metadata": {},
     "output_type": "execute_result"
    }
   ],
   "source": [
    "df.sample(5)"
   ]
  },
  {
   "cell_type": "raw",
   "id": "4cd23340",
   "metadata": {},
   "source": [
    "to analyze if the factor gender effects weightloss"
   ]
  },
  {
   "cell_type": "code",
   "execution_count": 28,
   "id": "4ba97473",
   "metadata": {},
   "outputs": [],
   "source": [
    "df[\"wtloss\"]=df[\"preweight\"]-df[\"weight6weeks\"]"
   ]
  },
  {
   "cell_type": "code",
   "execution_count": 29,
   "id": "318ac236",
   "metadata": {},
   "outputs": [
    {
     "name": "stderr",
     "output_type": "stream",
     "text": [
      "C:\\Users\\fathi\\anaconda3\\lib\\site-packages\\seaborn\\_decorators.py:36: FutureWarning: Pass the following variables as keyword args: x, y. From version 0.12, the only valid positional argument will be `data`, and passing other arguments without an explicit keyword will result in an error or misinterpretation.\n",
      "  warnings.warn(\n"
     ]
    },
    {
     "data": {
      "text/plain": [
       "<AxesSubplot:xlabel='gender', ylabel='wtloss'>"
      ]
     },
     "execution_count": 29,
     "metadata": {},
     "output_type": "execute_result"
    },
    {
     "data": {
      "image/png": "[encoded data removed]",
      "text/plain": [
       "<Figure size 640x480 with 1 Axes>"
      ]
     },
     "metadata": {},
     "output_type": "display_data"
    }
   ],
   "source": [
    "sns.boxplot(df.gender,df.wtloss)"
   ]
  },
  {
   "cell_type": "code",
   "execution_count": 47,
   "id": "fd5f0623",
   "metadata": {},
   "outputs": [],
   "source": [
    "from scipy.stats import f_oneway"
   ]
  },
  {
   "cell_type": "code",
   "execution_count": 40,
   "id": "21e6c097",
   "metadata": {},
   "outputs": [],
   "source": [
    "grp=df[\"wtloss\"].groupby(df[\"gender\"])"
   ]
  },
  {
   "cell_type": "code",
   "execution_count": 50,
   "id": "ddda7b7c",
   "metadata": {},
   "outputs": [
    {
     "data": {
      "text/plain": [
       "F_onewayResult(statistic=0.04378592096006073, pvalue=0.8348273886348012)"
      ]
     },
     "execution_count": 50,
     "metadata": {},
     "output_type": "execute_result"
    }
   ],
   "source": [
    "ss.f_oneway(*[i[1] for i in grp])"
   ]
  },
  {
   "cell_type": "code",
   "execution_count": null,
   "id": "38816169",
   "metadata": {},
   "outputs": [],
   "source": [
    "p value> alpha\n",
    "cannot reject null hypothesis\n",
    "there is no significant difference on weight loss based on gender"
   ]
  },
  {
   "cell_type": "markdown",
   "id": "7cca4605",
   "metadata": {},
   "source": [
    "TWO WAY ANOVA"
   ]
  },
  {
   "cell_type": "code",
   "execution_count": 51,
   "id": "111a2f15",
   "metadata": {},
   "outputs": [],
   "source": [
    "from statsmodels.formula.api import ols"
   ]
  },
  {
   "cell_type": "code",
   "execution_count": 52,
   "id": "911a8f2f",
   "metadata": {},
   "outputs": [],
   "source": [
    "from statsmodels.stats.anova import anova_lm"
   ]
  },
  {
   "cell_type": "code",
   "execution_count": 55,
   "id": "44adbb26",
   "metadata": {},
   "outputs": [],
   "source": [
    "formula=\"wtloss~C(gender)+C(Diet)\""
   ]
  },
  {
   "cell_type": "code",
   "execution_count": 60,
   "id": "af5b304c",
   "metadata": {},
   "outputs": [],
   "source": [
    "model=ols(formula,df).fit()"
   ]
  },
  {
   "cell_type": "code",
   "execution_count": 61,
   "id": "5700a030",
   "metadata": {},
   "outputs": [
    {
     "data": {
      "text/html": [
       "<div>\n",
       "<style scoped>\n",
       "    .dataframe tbody tr th:only-of-type {\n",
       "        vertical-align: middle;\n",
       "    }\n",
       "\n",
       "    .dataframe tbody tr th {\n",
       "        vertical-align: top;\n",
       "    }\n",
       "\n",
       "    .dataframe thead th {\n",
       "        text-align: right;\n",
       "    }\n",
       "</style>\n",
       "<table border=\"1\" class=\"dataframe\">\n",
       "  <thead>\n",
       "    <tr style=\"text-align: right;\">\n",
       "      <th></th>\n",
       "      <th>df</th>\n",
       "      <th>sum_sq</th>\n",
       "      <th>mean_sq</th>\n",
       "      <th>F</th>\n",
       "      <th>PR(&gt;F)</th>\n",
       "    </tr>\n",
       "  </thead>\n",
       "  <tbody>\n",
       "    <tr>\n",
       "      <th>C(gender)</th>\n",
       "      <td>1.0</td>\n",
       "      <td>0.278485</td>\n",
       "      <td>0.278485</td>\n",
       "      <td>0.048877</td>\n",
       "      <td>0.825655</td>\n",
       "    </tr>\n",
       "    <tr>\n",
       "      <th>C(Diet)</th>\n",
       "      <td>2.0</td>\n",
       "      <td>60.417220</td>\n",
       "      <td>30.208610</td>\n",
       "      <td>5.301912</td>\n",
       "      <td>0.007112</td>\n",
       "    </tr>\n",
       "    <tr>\n",
       "      <th>Residual</th>\n",
       "      <td>72.0</td>\n",
       "      <td>410.233112</td>\n",
       "      <td>5.697682</td>\n",
       "      <td>NaN</td>\n",
       "      <td>NaN</td>\n",
       "    </tr>\n",
       "  </tbody>\n",
       "</table>\n",
       "</div>"
      ],
      "text/plain": [
       "             df      sum_sq    mean_sq         F    PR(>F)\n",
       "C(gender)   1.0    0.278485   0.278485  0.048877  0.825655\n",
       "C(Diet)     2.0   60.417220  30.208610  5.301912  0.007112\n",
       "Residual   72.0  410.233112   5.697682       NaN       NaN"
      ]
     },
     "execution_count": 61,
     "metadata": {},
     "output_type": "execute_result"
    }
   ],
   "source": [
    "anova_lm(model)"
   ]
  },
  {
   "cell_type": "code",
   "execution_count": 62,
   "id": "22c6775f",
   "metadata": {},
   "outputs": [],
   "source": [
    "from bioinfokit.analys import stat"
   ]
  },
  {
   "cell_type": "code",
   "execution_count": 87,
   "id": "1cd0a991",
   "metadata": {},
   "outputs": [],
   "source": [
    "a=stat()"
   ]
  },
  {
   "cell_type": "code",
   "execution_count": 88,
   "id": "d0be3892",
   "metadata": {},
   "outputs": [
    {
     "name": "stderr",
     "output_type": "stream",
     "text": [
      "C:\\Users\\fathi\\anaconda3\\lib\\site-packages\\bioinfokit\\analys.py:368: FutureWarning: Dropping of nuisance columns in DataFrame reductions (with 'numeric_only=None') is deprecated; in a future version this will raise TypeError.  Select only valid columns before calling the reduction.\n",
      "  mult_group[(ele1, ele2)] = df[(df[xfac_var[0]] == ele1) &\n"
     ]
    }
   ],
   "source": [
    "a.tukey_hsd(df,res_var=\"wtloss\",xfac_var=[\"gender\",\"Diet\"],anova_model=formula)\n",
    "s=a.tukey_summary"
   ]
  },
  {
   "cell_type": "code",
   "execution_count": 89,
   "id": "69fb5ad3",
   "metadata": {},
   "outputs": [
    {
     "data": {
      "text/html": [
       "<div>\n",
       "<style scoped>\n",
       "    .dataframe tbody tr th:only-of-type {\n",
       "        vertical-align: middle;\n",
       "    }\n",
       "\n",
       "    .dataframe tbody tr th {\n",
       "        vertical-align: top;\n",
       "    }\n",
       "\n",
       "    .dataframe thead th {\n",
       "        text-align: right;\n",
       "    }\n",
       "</style>\n",
       "<table border=\"1\" class=\"dataframe\">\n",
       "  <thead>\n",
       "    <tr style=\"text-align: right;\">\n",
       "      <th></th>\n",
       "      <th>group1</th>\n",
       "      <th>group2</th>\n",
       "      <th>Diff</th>\n",
       "      <th>Lower</th>\n",
       "      <th>Upper</th>\n",
       "      <th>q-value</th>\n",
       "      <th>p-value</th>\n",
       "    </tr>\n",
       "  </thead>\n",
       "  <tbody>\n",
       "    <tr>\n",
       "      <th>1</th>\n",
       "      <td>(Female, 1)</td>\n",
       "      <td>(Female, 3)</td>\n",
       "      <td>2.830000</td>\n",
       "      <td>0.232983</td>\n",
       "      <td>5.427017</td>\n",
       "      <td>4.511936</td>\n",
       "      <td>0.024717</td>\n",
       "    </tr>\n",
       "    <tr>\n",
       "      <th>5</th>\n",
       "      <td>(Female, 2)</td>\n",
       "      <td>(Female, 3)</td>\n",
       "      <td>3.272857</td>\n",
       "      <td>0.675840</td>\n",
       "      <td>5.869874</td>\n",
       "      <td>5.217994</td>\n",
       "      <td>0.005583</td>\n",
       "    </tr>\n",
       "  </tbody>\n",
       "</table>\n",
       "</div>"
      ],
      "text/plain": [
       "        group1       group2      Diff     Lower     Upper   q-value   p-value\n",
       "1  (Female, 1)  (Female, 3)  2.830000  0.232983  5.427017  4.511936  0.024717\n",
       "5  (Female, 2)  (Female, 3)  3.272857  0.675840  5.869874  5.217994  0.005583"
      ]
     },
     "execution_count": 89,
     "metadata": {},
     "output_type": "execute_result"
    }
   ],
   "source": [
    "s[s[\"p-value\"]<0.05]"
   ]
  },
  {
   "cell_type": "code",
   "execution_count": null,
   "id": "c7794d46",
   "metadata": {},
   "outputs": [],
   "source": []
  }
 ],
 "metadata": {
  "kernelspec": {
   "display_name": "Python 3 (ipykernel)",
   "language": "python",
   "name": "python3"
  },
  "language_info": {
   "codemirror_mode": {
    "name": "ipython",
    "version": 3
   },
   "file_extension": ".py",
   "mimetype": "text/x-python",
   "name": "python",
   "nbconvert_exporter": "python",
   "pygments_lexer": "ipython3",
   "version": "3.9.13"
  }
 },
 "nbformat": 4,
 "nbformat_minor": 5
}
